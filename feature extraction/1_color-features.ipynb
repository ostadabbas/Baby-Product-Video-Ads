{
 "cells": [
  {
   "cell_type": "markdown",
   "id": "6098868d-15ec-4892-871e-9e87c844eefa",
   "metadata": {
    "tags": []
   },
   "source": [
    "# Extract color features from each shot\n",
    "- code for color name https://osf.io/ts4an/?view_only=c2bc70802e534f14b1e73efc567462b3"
   ]
  },
  {
   "cell_type": "code",
   "execution_count": 4,
   "id": "9b1d823c-a8d1-4d2a-a919-bb3edcbdb674",
   "metadata": {
    "tags": []
   },
   "outputs": [],
   "source": [
    "import os\n",
    "import numpy as np\n",
    "import pandas as pd\n",
    "import matplotlib.pyplot as plt\n",
    "from PIL import Image, ImageDraw\n",
    "from scipy.spatial.distance import cityblock\n",
    "import scipy.io\n",
    "import cv2\n",
    "# w2c_data = scipy.io.loadmat('w2c.mat')\n",
    "# w2c = w2c_data['w2c']\n",
    "# os.environ['PATH'] += ':/work/tvision/bin'\n",
    "# os.environ['PATH'] += ':/work/tvision/bin/bin'\n",
    "\n",
    "#video frame directory\n",
    "scene_frame_dir = '../eyetracking-frames-new/'\n",
    "ds_store_file = os.path.join(scene_frame_dir, '.DS_Store')\n",
    "if os.path.exists(ds_store_file):\n",
    "    os.remove(ds_store_file)\n",
    "    \n",
    "import warnings\n",
    "warnings.filterwarnings(\"ignore\")\n",
    "\n",
    "import features\n",
    "import re\n",
    "import json\n",
    "import tqdm\n",
    "from scripts import utils"
   ]
  },
  {
   "cell_type": "markdown",
   "id": "f074b204-f3da-472f-bc5b-547501399a40",
   "metadata": {},
   "source": [
    "# read video frames\n",
    "- for each shot, get the begining, middle, and last feame\n",
    "- obtain each feature in the three frames"
   ]
  },
  {
   "cell_type": "code",
   "execution_count": 5,
   "id": "f9a2468f-2e42-4797-a80d-ac87a8bc92d5",
   "metadata": {
    "tags": []
   },
   "outputs": [
    {
     "data": {
      "text/plain": [
       "['000_2i.jpg',\n",
       " '001_2m.jpg',\n",
       " '002_2f.jpg',\n",
       " '003_3i.jpg',\n",
       " '004_3m.jpg',\n",
       " '005_3f.jpg',\n",
       " '006_4i.jpg',\n",
       " '007_4m.jpg',\n",
       " '008_4f.jpg',\n",
       " '009_5i.jpg',\n",
       " '010_5m.jpg',\n",
       " '011_5f.jpg',\n",
       " '012_6i.jpg',\n",
       " '013_6m.jpg',\n",
       " '016_7m.jpg',\n",
       " '017_7f.jpg',\n",
       " '018_8i.jpg']"
      ]
     },
     "execution_count": 5,
     "metadata": {},
     "output_type": "execute_result"
    }
   ],
   "source": [
    "os.listdir(os.path.join(scene_frame_dir,os.listdir(scene_frame_dir)[0]))"
   ]
  },
  {
   "cell_type": "code",
   "execution_count": 7,
   "id": "08fd7352-0fb6-4b8e-8481-1cc0f8676cf3",
   "metadata": {
    "tags": []
   },
   "outputs": [],
   "source": [
    "# get the full path of each video frame\n",
    "scene_frames = []\n",
    "for vdir in os.listdir(scene_frame_dir):\n",
    "    for impath in os.listdir(os.path.join(scene_frame_dir, vdir)):\n",
    "        scene_frames.append(os.path.join(scene_frame_dir,vdir, impath))"
   ]
  },
  {
   "cell_type": "markdown",
   "id": "f6189046-d48c-40b6-880f-cdacd1fa39f0",
   "metadata": {},
   "source": [
    "# color and texture"
   ]
  },
  {
   "cell_type": "code",
   "execution_count": 13,
   "id": "67e44041-c2d3-4081-9495-c1e9f74a176a",
   "metadata": {
    "tags": []
   },
   "outputs": [],
   "source": [
    "from scripts import color\n",
    "from scripts import texture"
   ]
  },
  {
   "cell_type": "code",
   "execution_count": 14,
   "id": "b219c1a0-91ce-4558-ad07-d5b051375c96",
   "metadata": {
    "tags": []
   },
   "outputs": [
    {
     "data": {
      "text/plain": [
       "{'color_brightness': 117.7485,\n",
       " 'color_hue': 22.633,\n",
       " 'color_saturation': 30.3671,\n",
       " 'color_brightness_contrast': 94.0908,\n",
       " 'color_color_diversity': 414720.44,\n",
       " 'color_clarity': 55.7297,\n",
       " 'color_black': 0.377,\n",
       " 'color_blue': 0.011,\n",
       " 'color_brown': 0.058,\n",
       " 'color_gray': 0.262,\n",
       " 'color_green': 0.067,\n",
       " 'color_orange': 0.0,\n",
       " 'color_pink': 0.001,\n",
       " 'color_purple': 0.0,\n",
       " 'color_red': 0.001,\n",
       " 'color_white': 0.22,\n",
       " 'color_yellow': 0.004}"
      ]
     },
     "execution_count": 14,
     "metadata": {},
     "output_type": "execute_result"
    }
   ],
   "source": [
    "color.color_features(np.array(Image.open(scene_frames[0])))"
   ]
  },
  {
   "cell_type": "code",
   "execution_count": 15,
   "id": "52d26c77-4d52-44e6-a663-8b4598af5592",
   "metadata": {
    "tags": []
   },
   "outputs": [
    {
     "data": {
      "text/plain": [
       "{'texture_c1_contrast': 270.3892,\n",
       " 'texture_c1_correlation': 0.8536,\n",
       " 'texture_c1_energy': 0.3935,\n",
       " 'texture_c1_homogeneity': 0.7666,\n",
       " 'texture_c1_dissimilarity': 3.3399,\n",
       " 'texture_c2_contrast': 312.0798,\n",
       " 'texture_c2_correlation': 0.9139,\n",
       " 'texture_c2_energy': 0.3856,\n",
       " 'texture_c2_homogeneity': 0.6517,\n",
       " 'texture_c2_dissimilarity': 4.0763,\n",
       " 'texture_c3_contrast': 79.4319,\n",
       " 'texture_c3_correlation': 0.9955,\n",
       " 'texture_c3_energy': 0.2875,\n",
       " 'texture_c3_homogeneity': 0.6454,\n",
       " 'texture_c3_dissimilarity': 3.1255}"
      ]
     },
     "execution_count": 15,
     "metadata": {},
     "output_type": "execute_result"
    }
   ],
   "source": [
    "texture.texture_features(np.array(Image.open(scene_frames[0])))"
   ]
  },
  {
   "cell_type": "code",
   "execution_count": 24,
   "id": "bd6062da-5ef8-48a3-992d-3c26c01d9f8d",
   "metadata": {},
   "outputs": [
    {
     "name": "stderr",
     "output_type": "stream",
     "text": [
      "100%|██████████| 4181/4181 [12:16<00:00,  5.68it/s]\n"
     ]
    }
   ],
   "source": [
    "if not os.path.exists('../features'):\n",
    "    os.makedirs('../features')\n",
    "    \n",
    "outpath = '../features/color-texture-eyetracking.json'\n",
    "for im_path in tqdm.tqdm(scene_frames[0:]):\n",
    "    ad_id = im_path.split('/')[2]\n",
    "    shot_num = re.search(r'\\d', os.path.basename(im_path).split('_')[1]).group()\n",
    "    position_in_shot = re.search(r'\\d([a-zA-Z])\\.jpg', os.path.basename(im_path).split('_')[1]).group(1)\n",
    "    im_num = os.path.basename(im_path).split('_')[0]\n",
    "\n",
    "    results = {'ad_id':ad_id, 'shot':shot_num, 'position_in_shot':position_in_shot, 'im_num':str(im_num)}\n",
    "\n",
    "    frame = np.array(Image.open(im_path))\n",
    "\n",
    "    color_f = color.color_features(frame)\n",
    "    texture_f = texture.texture_features(frame)\n",
    "\n",
    "    results.update(color_f)\n",
    "    results.update(texture_f)\n",
    "    utils.write_json_row(outpath,results)\n"
   ]
  },
  {
   "cell_type": "code",
   "execution_count": null,
   "id": "df8c0118-e422-4e81-9897-401e72b7a972",
   "metadata": {},
   "outputs": [],
   "source": []
  },
  {
   "cell_type": "code",
   "execution_count": 35,
   "id": "611ea844-1d82-45b7-bf7c-4200cea13abb",
   "metadata": {},
   "outputs": [],
   "source": [
    "df = pd.read_json('../features/color-texture-eyetracking.json', lines=True)"
   ]
  },
  {
   "cell_type": "code",
   "execution_count": 36,
   "id": "44875d3b-34fd-44b5-937b-6792e40e6689",
   "metadata": {},
   "outputs": [
    {
     "data": {
      "text/html": [
       "<div>\n",
       "<style scoped>\n",
       "    .dataframe tbody tr th:only-of-type {\n",
       "        vertical-align: middle;\n",
       "    }\n",
       "\n",
       "    .dataframe tbody tr th {\n",
       "        vertical-align: top;\n",
       "    }\n",
       "\n",
       "    .dataframe thead th {\n",
       "        text-align: right;\n",
       "    }\n",
       "</style>\n",
       "<table border=\"1\" class=\"dataframe\">\n",
       "  <thead>\n",
       "    <tr style=\"text-align: right;\">\n",
       "      <th></th>\n",
       "      <th>ad_id</th>\n",
       "      <th>shot</th>\n",
       "      <th>position_in_shot</th>\n",
       "      <th>color_brightness</th>\n",
       "      <th>color_hue</th>\n",
       "      <th>color_saturation</th>\n",
       "      <th>color_brightness_contrast</th>\n",
       "      <th>color_color_diversity</th>\n",
       "      <th>color_clarity</th>\n",
       "      <th>color_black</th>\n",
       "      <th>...</th>\n",
       "      <th>texture_c2_contrast</th>\n",
       "      <th>texture_c2_correlation</th>\n",
       "      <th>texture_c2_energy</th>\n",
       "      <th>texture_c2_homogeneity</th>\n",
       "      <th>texture_c2_dissimilarity</th>\n",
       "      <th>texture_c3_contrast</th>\n",
       "      <th>texture_c3_correlation</th>\n",
       "      <th>texture_c3_energy</th>\n",
       "      <th>texture_c3_homogeneity</th>\n",
       "      <th>texture_c3_dissimilarity</th>\n",
       "    </tr>\n",
       "  </thead>\n",
       "  <tbody>\n",
       "    <tr>\n",
       "      <th>0</th>\n",
       "      <td>1+90 Years Crafting.mp4</td>\n",
       "      <td>1</td>\n",
       "      <td>f</td>\n",
       "      <td>0.0000</td>\n",
       "      <td>0.000</td>\n",
       "      <td>0.0000</td>\n",
       "      <td>0.0000</td>\n",
       "      <td>414721.03</td>\n",
       "      <td>0.0000</td>\n",
       "      <td>1.000</td>\n",
       "      <td>...</td>\n",
       "      <td>0.0000</td>\n",
       "      <td>1.0000</td>\n",
       "      <td>1.0000</td>\n",
       "      <td>1.0000</td>\n",
       "      <td>0.0000</td>\n",
       "      <td>0.0000</td>\n",
       "      <td>1.0000</td>\n",
       "      <td>1.0000</td>\n",
       "      <td>1.0000</td>\n",
       "      <td>0.0000</td>\n",
       "    </tr>\n",
       "    <tr>\n",
       "      <th>1</th>\n",
       "      <td>1+90 Years Crafting.mp4</td>\n",
       "      <td>1</td>\n",
       "      <td>i</td>\n",
       "      <td>0.0004</td>\n",
       "      <td>0.000</td>\n",
       "      <td>0.0000</td>\n",
       "      <td>0.0257</td>\n",
       "      <td>414721.03</td>\n",
       "      <td>0.0086</td>\n",
       "      <td>1.000</td>\n",
       "      <td>...</td>\n",
       "      <td>0.0000</td>\n",
       "      <td>1.0000</td>\n",
       "      <td>1.0000</td>\n",
       "      <td>1.0000</td>\n",
       "      <td>0.0000</td>\n",
       "      <td>0.0001</td>\n",
       "      <td>0.9343</td>\n",
       "      <td>0.9997</td>\n",
       "      <td>1.0000</td>\n",
       "      <td>0.0001</td>\n",
       "    </tr>\n",
       "    <tr>\n",
       "      <th>2</th>\n",
       "      <td>1+90 Years Crafting.mp4</td>\n",
       "      <td>1</td>\n",
       "      <td>m</td>\n",
       "      <td>0.0000</td>\n",
       "      <td>0.000</td>\n",
       "      <td>0.0000</td>\n",
       "      <td>0.0000</td>\n",
       "      <td>414721.03</td>\n",
       "      <td>0.0000</td>\n",
       "      <td>1.000</td>\n",
       "      <td>...</td>\n",
       "      <td>0.0000</td>\n",
       "      <td>1.0000</td>\n",
       "      <td>1.0000</td>\n",
       "      <td>1.0000</td>\n",
       "      <td>0.0000</td>\n",
       "      <td>0.0000</td>\n",
       "      <td>1.0000</td>\n",
       "      <td>1.0000</td>\n",
       "      <td>1.0000</td>\n",
       "      <td>0.0000</td>\n",
       "    </tr>\n",
       "    <tr>\n",
       "      <th>3</th>\n",
       "      <td>1+90 Years Crafting.mp4</td>\n",
       "      <td>2</td>\n",
       "      <td>f</td>\n",
       "      <td>119.7418</td>\n",
       "      <td>29.309</td>\n",
       "      <td>31.3865</td>\n",
       "      <td>90.9059</td>\n",
       "      <td>414720.56</td>\n",
       "      <td>58.9001</td>\n",
       "      <td>0.345</td>\n",
       "      <td>...</td>\n",
       "      <td>151.4990</td>\n",
       "      <td>0.9619</td>\n",
       "      <td>0.3814</td>\n",
       "      <td>0.6815</td>\n",
       "      <td>2.4498</td>\n",
       "      <td>41.7188</td>\n",
       "      <td>0.9975</td>\n",
       "      <td>0.2641</td>\n",
       "      <td>0.6602</td>\n",
       "      <td>2.2503</td>\n",
       "    </tr>\n",
       "    <tr>\n",
       "      <th>4</th>\n",
       "      <td>1+90 Years Crafting.mp4</td>\n",
       "      <td>2</td>\n",
       "      <td>i</td>\n",
       "      <td>117.7485</td>\n",
       "      <td>22.633</td>\n",
       "      <td>30.3671</td>\n",
       "      <td>94.0908</td>\n",
       "      <td>414720.44</td>\n",
       "      <td>55.7297</td>\n",
       "      <td>0.377</td>\n",
       "      <td>...</td>\n",
       "      <td>312.0798</td>\n",
       "      <td>0.9139</td>\n",
       "      <td>0.3856</td>\n",
       "      <td>0.6517</td>\n",
       "      <td>4.0763</td>\n",
       "      <td>79.4319</td>\n",
       "      <td>0.9955</td>\n",
       "      <td>0.2875</td>\n",
       "      <td>0.6454</td>\n",
       "      <td>3.1255</td>\n",
       "    </tr>\n",
       "  </tbody>\n",
       "</table>\n",
       "<p>5 rows × 35 columns</p>\n",
       "</div>"
      ],
      "text/plain": [
       "                     ad_id  shot position_in_shot  color_brightness  \\\n",
       "0  1+90 Years Crafting.mp4     1                f            0.0000   \n",
       "1  1+90 Years Crafting.mp4     1                i            0.0004   \n",
       "2  1+90 Years Crafting.mp4     1                m            0.0000   \n",
       "3  1+90 Years Crafting.mp4     2                f          119.7418   \n",
       "4  1+90 Years Crafting.mp4     2                i          117.7485   \n",
       "\n",
       "   color_hue  color_saturation  color_brightness_contrast  \\\n",
       "0      0.000            0.0000                     0.0000   \n",
       "1      0.000            0.0000                     0.0257   \n",
       "2      0.000            0.0000                     0.0000   \n",
       "3     29.309           31.3865                    90.9059   \n",
       "4     22.633           30.3671                    94.0908   \n",
       "\n",
       "   color_color_diversity  color_clarity  color_black  ...  \\\n",
       "0              414721.03         0.0000        1.000  ...   \n",
       "1              414721.03         0.0086        1.000  ...   \n",
       "2              414721.03         0.0000        1.000  ...   \n",
       "3              414720.56        58.9001        0.345  ...   \n",
       "4              414720.44        55.7297        0.377  ...   \n",
       "\n",
       "   texture_c2_contrast  texture_c2_correlation  texture_c2_energy  \\\n",
       "0               0.0000                  1.0000             1.0000   \n",
       "1               0.0000                  1.0000             1.0000   \n",
       "2               0.0000                  1.0000             1.0000   \n",
       "3             151.4990                  0.9619             0.3814   \n",
       "4             312.0798                  0.9139             0.3856   \n",
       "\n",
       "   texture_c2_homogeneity  texture_c2_dissimilarity  texture_c3_contrast  \\\n",
       "0                  1.0000                    0.0000               0.0000   \n",
       "1                  1.0000                    0.0000               0.0001   \n",
       "2                  1.0000                    0.0000               0.0000   \n",
       "3                  0.6815                    2.4498              41.7188   \n",
       "4                  0.6517                    4.0763              79.4319   \n",
       "\n",
       "   texture_c3_correlation  texture_c3_energy  texture_c3_homogeneity  \\\n",
       "0                  1.0000             1.0000                  1.0000   \n",
       "1                  0.9343             0.9997                  1.0000   \n",
       "2                  1.0000             1.0000                  1.0000   \n",
       "3                  0.9975             0.2641                  0.6602   \n",
       "4                  0.9955             0.2875                  0.6454   \n",
       "\n",
       "   texture_c3_dissimilarity  \n",
       "0                    0.0000  \n",
       "1                    0.0001  \n",
       "2                    0.0000  \n",
       "3                    2.2503  \n",
       "4                    3.1255  \n",
       "\n",
       "[5 rows x 35 columns]"
      ]
     },
     "execution_count": 36,
     "metadata": {},
     "output_type": "execute_result"
    }
   ],
   "source": [
    "df.head()"
   ]
  },
  {
   "cell_type": "code",
   "execution_count": null,
   "id": "c6f12b9d-07d2-4ff4-93f5-130cbcac700d",
   "metadata": {},
   "outputs": [],
   "source": []
  }
 ],
 "metadata": {
  "kernelspec": {
   "display_name": "Python 3 (ipykernel)",
   "language": "python",
   "name": "python3"
  },
  "language_info": {
   "codemirror_mode": {
    "name": "ipython",
    "version": 3
   },
   "file_extension": ".py",
   "mimetype": "text/x-python",
   "name": "python",
   "nbconvert_exporter": "python",
   "pygments_lexer": "ipython3",
   "version": "3.11.6"
  }
 },
 "nbformat": 4,
 "nbformat_minor": 5
}
