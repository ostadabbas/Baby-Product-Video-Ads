{
 "cells": [
  {
   "cell_type": "markdown",
   "id": "6098868d-15ec-4892-871e-9e87c844eefa",
   "metadata": {
    "tags": []
   },
   "source": [
    "# Extract content and composite features\n",
    "- code for color name https://osf.io/ts4an/?view_only=c2bc70802e534f14b1e73efc567462b3\n",
    "- face detection https://github.com/timesler/facenet-pytorch\n",
    "- object detection YOLO v8"
   ]
  },
  {
   "cell_type": "code",
   "execution_count": 9,
   "id": "9b1d823c-a8d1-4d2a-a919-bb3edcbdb674",
   "metadata": {
    "tags": []
   },
   "outputs": [
    {
     "name": "stdout",
     "output_type": "stream",
     "text": [
      "PyTorch version: 2.0.1+cu117\n",
      "Torchvision version: 0.15.2+cu117\n",
      "CUDA is available: True\n"
     ]
    }
   ],
   "source": [
    "import os\n",
    "import numpy as np\n",
    "import pandas as pd\n",
    "import matplotlib.pyplot as plt\n",
    "from PIL import Image, ImageDraw\n",
    "import cv2\n",
    "# os.environ['PATH'] += ':/work/tvision/bin'\n",
    "# os.environ['PATH'] += ':/work/tvision/bin/bin'\n",
    "\n",
    "\n",
    "scene_frame_dir = '../eyetracking-frames-new/'\n",
    "ds_store_file = os.path.join(scene_frame_dir, '.DS_Store')\n",
    "if os.path.exists(ds_store_file):\n",
    "    os.remove(ds_store_file)\n",
    "    \n",
    "import warnings\n",
    "warnings.filterwarnings(\"ignore\")\n",
    "\n",
    "import features\n",
    "from ultralytics import YOLO\n",
    "yolomodel = YOLO(model='yolov8x.pt')\n",
    "from segment_anything import SamAutomaticMaskGenerator, sam_model_registry, SamPredictor\n",
    "sam_checkpoint = \"sam_vit_b_01ec64.pth\"\n",
    "model_type = \"vit_b\"\n",
    "sam = sam_model_registry[model_type](checkpoint=sam_checkpoint)\n",
    "mask_generator = SamAutomaticMaskGenerator(sam, pred_iou_thresh=0.9, min_mask_region_area=200)\n",
    "\n",
    "import subprocess\n",
    "import tqdm\n",
    "from math import sqrt\n",
    "\n",
    "import torch\n",
    "import torchvision\n",
    "print(\"PyTorch version:\", torch.__version__)\n",
    "print(\"Torchvision version:\", torchvision.__version__)\n",
    "print(\"CUDA is available:\", torch.cuda.is_available())\n",
    "if torch.cuda.is_available():\n",
    "    device = \"cuda\"\n",
    "else:\n",
    "    device = \"cpu\"\n",
    "    \n",
    "sam.to(device=device)\n",
    "\n",
    "from scripts import content\n",
    "from scripts import composite\n",
    "from scripts import utils\n",
    "from skimage.color import rgb2hsv\n",
    "import re"
   ]
  },
  {
   "cell_type": "code",
   "execution_count": 10,
   "id": "2c057135-6394-4c76-88b9-583df6898d35",
   "metadata": {
    "tags": []
   },
   "outputs": [
    {
     "name": "stdout",
     "output_type": "stream",
     "text": [
      "Number of available CUDA devices: 1\n",
      "Current CUDA device index: 0\n",
      "Name of current CUDA device: Tesla V100-SXM2-32GB\n"
     ]
    }
   ],
   "source": [
    "print(f\"Number of available CUDA devices: {torch.cuda.device_count()}\")\n",
    "print(f\"Current CUDA device index: {torch.cuda.current_device()}\")\n",
    "print(f\"Name of current CUDA device: {torch.cuda.get_device_name(torch.cuda.current_device())}\")"
   ]
  },
  {
   "cell_type": "markdown",
   "id": "f074b204-f3da-472f-bc5b-547501399a40",
   "metadata": {},
   "source": [
    "# Read video frames\n",
    "- for each shot, get the begining, middle, and last feame\n",
    "- obtain each feature in the three frames"
   ]
  },
  {
   "cell_type": "code",
   "execution_count": 11,
   "id": "08fd7352-0fb6-4b8e-8481-1cc0f8676cf3",
   "metadata": {
    "tags": []
   },
   "outputs": [
    {
     "data": {
      "text/plain": [
       "['000_2i.jpg',\n",
       " '001_2m.jpg',\n",
       " '002_2f.jpg',\n",
       " '003_3i.jpg',\n",
       " '004_3m.jpg',\n",
       " '005_3f.jpg',\n",
       " '006_4i.jpg',\n",
       " '007_4m.jpg',\n",
       " '008_4f.jpg',\n",
       " '009_5i.jpg',\n",
       " '010_5m.jpg',\n",
       " '011_5f.jpg',\n",
       " '012_6i.jpg',\n",
       " '013_6m.jpg',\n",
       " '016_7m.jpg',\n",
       " '017_7f.jpg',\n",
       " '018_8i.jpg']"
      ]
     },
     "execution_count": 11,
     "metadata": {},
     "output_type": "execute_result"
    }
   ],
   "source": [
    "os.listdir(os.path.join(scene_frame_dir,os.listdir(scene_frame_dir)[0]))"
   ]
  },
  {
   "cell_type": "code",
   "execution_count": 12,
   "id": "7a91068f-46fc-4d87-b36e-5c0ca8d8ac0c",
   "metadata": {
    "tags": []
   },
   "outputs": [],
   "source": [
    "scene_frames = []\n",
    "for vdir in os.listdir(scene_frame_dir):\n",
    "    for impath in os.listdir(os.path.join(scene_frame_dir, vdir)):\n",
    "        scene_frames.append(os.path.join(scene_frame_dir,vdir, impath))"
   ]
  },
  {
   "cell_type": "code",
   "execution_count": 13,
   "id": "2191465f-f4e7-4c04-a4ee-3cdd9b038f49",
   "metadata": {
    "tags": []
   },
   "outputs": [
    {
     "data": {
      "text/plain": [
       "4181"
      ]
     },
     "execution_count": 13,
     "metadata": {},
     "output_type": "execute_result"
    }
   ],
   "source": [
    "len(scene_frames)"
   ]
  },
  {
   "cell_type": "code",
   "execution_count": null,
   "id": "9775c68e-ec8e-4a15-8da7-8c7c3db2a1d2",
   "metadata": {
    "tags": []
   },
   "outputs": [],
   "source": [
    "i = 40"
   ]
  },
  {
   "cell_type": "code",
   "execution_count": null,
   "id": "c8a185a4-0bf6-4087-9d97-352beed87026",
   "metadata": {
    "tags": []
   },
   "outputs": [],
   "source": [
    "frame = np.array(Image.open(scene_frames[i]))"
   ]
  },
  {
   "cell_type": "code",
   "execution_count": null,
   "id": "8135ac97-a36f-49a8-85b9-b5dfe4307117",
   "metadata": {
    "tags": []
   },
   "outputs": [],
   "source": [
    "plt.imshow(frame)\n",
    "plt.axis('off')  # Turn off axis\n",
    "image_height, image_width, _ = frame.shape\n",
    "third_width = image_width / 3\n",
    "third_height = image_height / 3\n",
    "\n",
    "# Draw the vertical grid lines\n",
    "plt.axvline(x=third_width, color='g', linestyle='--')\n",
    "plt.axvline(x=2 * third_width, color='g', linestyle='--')\n",
    "\n",
    "# Draw the horizontal grid lines\n",
    "plt.axhline(y=third_height, color='g', linestyle='--')\n",
    "plt.axhline(y=2 * third_height, color='g', linestyle='--')\n",
    "\n",
    "plt.show()"
   ]
  },
  {
   "cell_type": "code",
   "execution_count": null,
   "id": "d0fc34ef-97bd-452a-a5b8-10648a7e03af",
   "metadata": {
    "tags": []
   },
   "outputs": [],
   "source": [
    "content.face_count_mtcnn(frame)"
   ]
  },
  {
   "cell_type": "code",
   "execution_count": null,
   "id": "f3b5a42c-7acf-4e4e-b20f-58f977814f85",
   "metadata": {},
   "outputs": [],
   "source": [
    "composite.inner_rectangle_features(frame)"
   ]
  },
  {
   "cell_type": "code",
   "execution_count": null,
   "id": "2cfb54af-dab7-4239-8e11-d94ef096f90d",
   "metadata": {},
   "outputs": [],
   "source": []
  },
  {
   "cell_type": "code",
   "execution_count": null,
   "id": "7f07a230-d23b-4459-b453-5ccd29f6c94e",
   "metadata": {
    "tags": []
   },
   "outputs": [],
   "source": [
    "results = yolomodel.predict(scene_frames[i], imgsz=640, conf=0.5, iou=0.25, save=True)  "
   ]
  },
  {
   "cell_type": "code",
   "execution_count": null,
   "id": "39cc368c-c7c3-405c-9476-f49818755e29",
   "metadata": {
    "tags": []
   },
   "outputs": [],
   "source": [
    "objects_count_yolo = results[0].boxes.cls.shape[0]\n",
    "face_count_yolo = len([i for i in results[0].boxes.cls if i==0])"
   ]
  },
  {
   "cell_type": "code",
   "execution_count": null,
   "id": "51c5f71f-bcab-48a9-a039-b7487599e5fc",
   "metadata": {
    "tags": []
   },
   "outputs": [],
   "source": [
    "objects_count_yolo, face_count_yolo "
   ]
  },
  {
   "cell_type": "code",
   "execution_count": null,
   "id": "b973cd3b-e03a-4cbc-9042-9396a852039b",
   "metadata": {},
   "outputs": [],
   "source": [
    "masks = mask_generator.generate(frame)"
   ]
  },
  {
   "cell_type": "code",
   "execution_count": null,
   "id": "dd20d111-372b-4f82-8ade-60b01a86c921",
   "metadata": {
    "tags": []
   },
   "outputs": [],
   "source": [
    "len(masks)"
   ]
  },
  {
   "cell_type": "code",
   "execution_count": null,
   "id": "bb00ae29-614e-4656-b87f-afdff19d7194",
   "metadata": {
    "tags": []
   },
   "outputs": [],
   "source": [
    "res = content.get_sam_stats(masks, frame.shape[0]*frame.shape[1])"
   ]
  },
  {
   "cell_type": "code",
   "execution_count": null,
   "id": "7edc34ee-d919-4ad6-b102-51ced6712423",
   "metadata": {
    "tags": []
   },
   "outputs": [],
   "source": [
    "res"
   ]
  },
  {
   "cell_type": "code",
   "execution_count": null,
   "id": "13ca973f-fbfe-4011-9c5a-c331fc886663",
   "metadata": {
    "tags": []
   },
   "outputs": [],
   "source": [
    "composite.analyze_rule_of_thirds(frame, masks[3]['bbox'], form='xywh')"
   ]
  },
  {
   "cell_type": "code",
   "execution_count": null,
   "id": "bc9000c0-8f3a-4ec0-9874-6db75a6fd265",
   "metadata": {},
   "outputs": [],
   "source": [
    "features.visualize_boxes(scene_frames[i], [masks[3]['bbox']], form='xywh')"
   ]
  },
  {
   "cell_type": "code",
   "execution_count": null,
   "id": "e64efa16-3e9a-4e83-a460-a1b1291e3ab6",
   "metadata": {},
   "outputs": [],
   "source": [
    "plt.figure(figsize=(10,5))\n",
    "plt.imshow(frame)\n",
    "features.show_anns(masks,frame.shape[0]*frame.shape[1]*10)\n",
    "plt.axis('off')\n",
    "plt.show() "
   ]
  },
  {
   "cell_type": "code",
   "execution_count": null,
   "id": "7f9d1b41-f134-4caf-b227-20533ecf1049",
   "metadata": {},
   "outputs": [],
   "source": []
  },
  {
   "cell_type": "markdown",
   "id": "0a51466e-84bb-4cb5-b775-51bfe842a62f",
   "metadata": {},
   "source": [
    "# Extract and save features"
   ]
  },
  {
   "cell_type": "code",
   "execution_count": 17,
   "id": "95fe2556-57a4-41df-aeee-ef5b24a9bfdf",
   "metadata": {
    "tags": []
   },
   "outputs": [],
   "source": [
    "def objects_yolo(im_path):\n",
    "    results = yolomodel.predict(im_path, imgsz=640, conf=0.5, iou=0.25, save=False, verbose=False)  \n",
    "    objects_count_yolo = results[0].boxes.cls.shape[0]\n",
    "    face_count_yolo = len([i for i in results[0].boxes.cls if i==0])\n",
    "    \n",
    "    return {'objects_count_yolo':objects_count_yolo,'face_count_yolo':face_count_yolo}"
   ]
  },
  {
   "cell_type": "code",
   "execution_count": 18,
   "id": "6471d5bc-1862-4b4c-a7b3-422915fdabc4",
   "metadata": {
    "tags": []
   },
   "outputs": [],
   "source": [
    "def sam_details(frame):\n",
    "    image_size = frame.shape[0]*frame.shape[1]\n",
    "\n",
    "    masks = mask_generator.generate(frame)\n",
    "    re =  content.get_sam_stats(masks, frame.shape[0]*frame.shape[1])\n",
    "    rot = []\n",
    "    for mask in masks:\n",
    "        if mask['area'] > image_size/100:\n",
    "            rot.append(composite.analyze_rule_of_thirds(frame, mask['bbox'], form='xywh')['rot_at_intersections'])\n",
    "    if len(rot)==0:\n",
    "        rule_of_thirds = 0\n",
    "    else:\n",
    "        rule_of_thirds = len([i for i in rot if i])/len(rot)\n",
    "    re.update({'rule_of_thirds': round(rule_of_thirds,4)})\n",
    "    return re"
   ]
  },
  {
   "cell_type": "code",
   "execution_count": null,
   "id": "821a629b-56bb-4818-ab71-2d84e987516c",
   "metadata": {},
   "outputs": [],
   "source": []
  },
  {
   "cell_type": "code",
   "execution_count": 25,
   "id": "d9f9bba4-15ef-42b1-84c7-efbc73458b20",
   "metadata": {},
   "outputs": [
    {
     "name": "stderr",
     "output_type": "stream",
     "text": [
      "100%|██████████| 2000/2000 [1:12:33<00:00,  2.18s/it]\n"
     ]
    }
   ],
   "source": [
    "if not os.path.exists('../features'):\n",
    "    os.makedirs('../features')\n",
    "    \n",
    "outpath = '../features/content-composite-complexity-eyetracking.json'\n",
    "for im_path in tqdm.tqdm(scene_frames[0:]):\n",
    "    ad_id = im_path.split('/')[2]\n",
    "    #if ad_id not in contentf['ad_id'].unique():\n",
    "    shot_num = re.search(r'\\d', os.path.basename(im_path).split('_')[1]).group()\n",
    "    position_in_shot = re.search(r'\\d([a-zA-Z])\\.jpg', os.path.basename(im_path).split('_')[1]).group(1)\n",
    "    im_num = os.path.basename(im_path).split('_')[0]\n",
    "\n",
    "    results = {'ad_id':ad_id, 'shot':shot_num, 'position_in_shot':position_in_shot, 'im_num':im_num}\n",
    "\n",
    "    frame = np.array(Image.open(im_path))\n",
    "\n",
    "    re_face = content.face_count_mtcnn(frame)\n",
    "    re_inner = composite.inner_rectangle_features(frame)\n",
    "    re_yolo = objects_yolo(im_path)\n",
    "    re_sam = sam_details(frame)\n",
    "\n",
    "    results.update(re_face)\n",
    "    results.update(re_inner)\n",
    "    results.update(re_yolo)\n",
    "    results.update(re_sam)\n",
    "\n",
    "    utils.write_json_row(outpath,results)\n",
    "    #break"
   ]
  },
  {
   "cell_type": "code",
   "execution_count": null,
   "id": "f6c51801-c65a-48a5-b547-cc0f79b6edc5",
   "metadata": {},
   "outputs": [],
   "source": []
  },
  {
   "cell_type": "code",
   "execution_count": null,
   "id": "77b6c99f-417c-400c-90f9-8fc85b14dd21",
   "metadata": {},
   "outputs": [],
   "source": []
  },
  {
   "cell_type": "code",
   "execution_count": null,
   "id": "5847d8a8-0a18-490d-8605-a0a418aec01c",
   "metadata": {},
   "outputs": [],
   "source": []
  }
 ],
 "metadata": {
  "kernelspec": {
   "display_name": "Python 3 (ipykernel)",
   "language": "python",
   "name": "python3"
  },
  "language_info": {
   "codemirror_mode": {
    "name": "ipython",
    "version": 3
   },
   "file_extension": ".py",
   "mimetype": "text/x-python",
   "name": "python",
   "nbconvert_exporter": "python",
   "pygments_lexer": "ipython3",
   "version": "3.11.6"
  }
 },
 "nbformat": 4,
 "nbformat_minor": 5
}
