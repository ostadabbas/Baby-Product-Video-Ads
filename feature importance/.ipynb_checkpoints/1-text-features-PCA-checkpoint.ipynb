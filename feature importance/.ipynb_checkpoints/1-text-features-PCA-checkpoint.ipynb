{
 "cells": [
  {
   "cell_type": "markdown",
   "id": "3818f2d4-de2e-49ab-93b9-78190c36957d",
   "metadata": {},
   "source": [
    "# This notebook applies PCA to linguistic feature selection"
   ]
  },
  {
   "cell_type": "code",
   "execution_count": null,
   "id": "b17d73b3-f09a-47a6-8886-3ab098f10625",
   "metadata": {},
   "outputs": [],
   "source": [
    "import pickle\n",
    "import os\n",
    "import tqdm\n",
    "import pandas as pd\n",
    "import numpy as np\n",
    "import matplotlib.pyplot as plt\n",
    "import seaborn as sns\n",
    "from statsmodels.api import OLS\n",
    "import statsmodels.api as sm\n",
    "import statsmodels.stats as sts\n",
    "from scipy import stats\n",
    "import statsmodels.stats.api as sms\n",
    "\n",
    "\n",
    "import datetime\n",
    "date = datetime.datetime.now()\n",
    "date = date.strftime(\"%Y.%m.%d\")\n",
    "np.random.seed(0)\n",
    "\n",
    "def stdz(series: pd.Series):\n",
    "    \"\"\"Standardize the given pandas Series\"\"\"\n",
    "    return (series - series.mean())/series.std()\n",
    "def unitstdz(series:pd.Series):\n",
    "    return (series - series.min())/(series.max()-series.min())\n",
    "\n",
    "from imblearn.under_sampling import RandomUnderSampler\n",
    "\n",
    "import re\n",
    "def extract_video_number(filename):\n",
    "    match = re.match(r'(\\d+)[+-]', filename)\n",
    "    return match.group(1) if match else None"
   ]
  },
  {
   "cell_type": "markdown",
   "id": "d2883cb8-2146-42d5-b7aa-806149a6a249",
   "metadata": {},
   "source": [
    "# read data"
   ]
  },
  {
   "cell_type": "code",
   "execution_count": 36,
   "id": "1f93dfc3-6ce0-4715-8b31-9066c860c178",
   "metadata": {},
   "outputs": [],
   "source": [
    "rating = pd.read_excel('eyetracking-coordinates-imname.xlsx', sheet_name='video-based')"
   ]
  },
  {
   "cell_type": "code",
   "execution_count": 37,
   "id": "6dde74b7-c5c4-4385-a768-d935f9686cac",
   "metadata": {
    "tags": []
   },
   "outputs": [
    {
     "data": {
      "text/plain": [
       "Index(['VideoNumber', 'GroupN(1=low(1-3),2=neutral(4-6),3=high(7-10))',\n",
       "       'PrefereneMean', 'PurchaseDesireMean', 'NarrativeInterityMean',\n",
       "       'EmpathyMean', 'TotalTime(S)', 'ShotNumber', 'ShotMean',\n",
       "       'Shotvariance'],\n",
       "      dtype='object')"
      ]
     },
     "execution_count": 37,
     "metadata": {},
     "output_type": "execute_result"
    }
   ],
   "source": [
    "rating.columns"
   ]
  },
  {
   "cell_type": "code",
   "execution_count": 38,
   "id": "1fcd8baa-3817-4631-a331-074bc13ca5d6",
   "metadata": {
    "tags": []
   },
   "outputs": [],
   "source": [
    "rating.drop('Shotvariance',axis=1,inplace=True)"
   ]
  },
  {
   "cell_type": "code",
   "execution_count": 39,
   "id": "9ad229dc-4055-49a3-9d66-40ff29d612d4",
   "metadata": {
    "tags": []
   },
   "outputs": [
    {
     "data": {
      "text/html": [
       "<div>\n",
       "<style scoped>\n",
       "    .dataframe tbody tr th:only-of-type {\n",
       "        vertical-align: middle;\n",
       "    }\n",
       "\n",
       "    .dataframe tbody tr th {\n",
       "        vertical-align: top;\n",
       "    }\n",
       "\n",
       "    .dataframe thead th {\n",
       "        text-align: right;\n",
       "    }\n",
       "</style>\n",
       "<table border=\"1\" class=\"dataframe\">\n",
       "  <thead>\n",
       "    <tr style=\"text-align: right;\">\n",
       "      <th></th>\n",
       "      <th>VideoNumber</th>\n",
       "      <th>GroupN(1=low(1-3),2=neutral(4-6),3=high(7-10))</th>\n",
       "      <th>PrefereneMean</th>\n",
       "      <th>PurchaseDesireMean</th>\n",
       "      <th>NarrativeInterityMean</th>\n",
       "      <th>EmpathyMean</th>\n",
       "      <th>TotalTime(S)</th>\n",
       "      <th>ShotNumber</th>\n",
       "      <th>ShotMean</th>\n",
       "    </tr>\n",
       "  </thead>\n",
       "  <tbody>\n",
       "    <tr>\n",
       "      <th>0</th>\n",
       "      <td>1</td>\n",
       "      <td>2</td>\n",
       "      <td>5.957447</td>\n",
       "      <td>5.553191</td>\n",
       "      <td>5.085106</td>\n",
       "      <td>5.255319</td>\n",
       "      <td>33</td>\n",
       "      <td>8</td>\n",
       "      <td>4.125000</td>\n",
       "    </tr>\n",
       "    <tr>\n",
       "      <th>1</th>\n",
       "      <td>2</td>\n",
       "      <td>2</td>\n",
       "      <td>5.000000</td>\n",
       "      <td>4.000000</td>\n",
       "      <td>5.000000</td>\n",
       "      <td>6.333333</td>\n",
       "      <td>84</td>\n",
       "      <td>9</td>\n",
       "      <td>9.333333</td>\n",
       "    </tr>\n",
       "    <tr>\n",
       "      <th>2</th>\n",
       "      <td>3</td>\n",
       "      <td>1</td>\n",
       "      <td>3.000000</td>\n",
       "      <td>1.777778</td>\n",
       "      <td>5.555556</td>\n",
       "      <td>2.777778</td>\n",
       "      <td>31</td>\n",
       "      <td>10</td>\n",
       "      <td>3.100000</td>\n",
       "    </tr>\n",
       "    <tr>\n",
       "      <th>3</th>\n",
       "      <td>4</td>\n",
       "      <td>3</td>\n",
       "      <td>7.111111</td>\n",
       "      <td>6.777778</td>\n",
       "      <td>4.666667</td>\n",
       "      <td>6.777778</td>\n",
       "      <td>34</td>\n",
       "      <td>17</td>\n",
       "      <td>2.000000</td>\n",
       "    </tr>\n",
       "    <tr>\n",
       "      <th>4</th>\n",
       "      <td>5</td>\n",
       "      <td>1</td>\n",
       "      <td>3.666667</td>\n",
       "      <td>2.333333</td>\n",
       "      <td>5.833333</td>\n",
       "      <td>2.833333</td>\n",
       "      <td>32</td>\n",
       "      <td>12</td>\n",
       "      <td>2.666667</td>\n",
       "    </tr>\n",
       "  </tbody>\n",
       "</table>\n",
       "</div>"
      ],
      "text/plain": [
       "   VideoNumber  GroupN(1=low(1-3),2=neutral(4-6),3=high(7-10))  PrefereneMean  \\\n",
       "0            1                                               2       5.957447   \n",
       "1            2                                               2       5.000000   \n",
       "2            3                                               1       3.000000   \n",
       "3            4                                               3       7.111111   \n",
       "4            5                                               1       3.666667   \n",
       "\n",
       "   PurchaseDesireMean  NarrativeInterityMean  EmpathyMean  TotalTime(S)  \\\n",
       "0            5.553191               5.085106     5.255319            33   \n",
       "1            4.000000               5.000000     6.333333            84   \n",
       "2            1.777778               5.555556     2.777778            31   \n",
       "3            6.777778               4.666667     6.777778            34   \n",
       "4            2.333333               5.833333     2.833333            32   \n",
       "\n",
       "   ShotNumber  ShotMean  \n",
       "0           8  4.125000  \n",
       "1           9  9.333333  \n",
       "2          10  3.100000  \n",
       "3          17  2.000000  \n",
       "4          12  2.666667  "
      ]
     },
     "execution_count": 39,
     "metadata": {},
     "output_type": "execute_result"
    }
   ],
   "source": [
    "rating.head()"
   ]
  },
  {
   "cell_type": "code",
   "execution_count": 40,
   "id": "3a81d8c5-ad6c-4a4e-be3c-190054330745",
   "metadata": {
    "tags": []
   },
   "outputs": [],
   "source": [
    "text_path = [os.path.join('../NLP',i) for i in os.listdir('../NLP/')]"
   ]
  },
  {
   "cell_type": "code",
   "execution_count": 41,
   "id": "33af55fa-f275-4e04-9cdb-d21d3ca95339",
   "metadata": {
    "tags": []
   },
   "outputs": [
    {
     "data": {
      "text/plain": [
       "['../NLP/LIWC-22 Results - transcript_plain - LIWC Analysis.csv',\n",
       " '../NLP/LIWC-22 Results - transcript_plain_abosolutistwords.csv',\n",
       " '../NLP/LIWC-22 Results - transcript_plain_agitationdejection.csv',\n",
       " '../NLP/LIWC-22 Results - transcript_plain_behavioralactivation.csv',\n",
       " '../NLP/LIWC-22 Results - transcript_plain_brand.csv',\n",
       " '../NLP/LIWC-22 Results - transcript_plain_controversial_terms.csv',\n",
       " '../NLP/LIWC-22 Results - transcript_plain_costbenefit.csv',\n",
       " '../NLP/LIWC-22 Results - transcript_plain_creativity.csv',\n",
       " '../NLP/LIWC-22 Results - transcript_plain_imagination_lexicon.csv',\n",
       " '../NLP/LIWC-22 Results - transcript_plain_mindperception.csv',\n",
       " '../NLP/LIWC-22 Results - transcript_plain_security.csv',\n",
       " '../NLP/all_results.csv']"
      ]
     },
     "execution_count": 41,
     "metadata": {},
     "output_type": "execute_result"
    }
   ],
   "source": [
    "text_path"
   ]
  },
  {
   "cell_type": "code",
   "execution_count": 42,
   "id": "a1dac20e-4485-414f-bc7d-d081793bf953",
   "metadata": {
    "tags": []
   },
   "outputs": [],
   "source": [
    "def split_ad_id(ad_id):\n",
    "    if '+' in ad_id[0:5]:\n",
    "        return ad_id.split('+')[0]\n",
    "    elif '-' in ad_id[0:5]:\n",
    "        return ad_id.split('-')[0]\n",
    "    else:\n",
    "        return ad_id  # if neither '+' nor '-' is present, return the original ad_id"
   ]
  },
  {
   "cell_type": "code",
   "execution_count": 43,
   "id": "f76c791e-48f0-46aa-9499-7fa4b58643f8",
   "metadata": {
    "tags": []
   },
   "outputs": [
    {
     "name": "stderr",
     "output_type": "stream",
     "text": [
      "100%|██████████| 10/10 [00:00<00:00, 105.86it/s]\n"
     ]
    }
   ],
   "source": [
    "def lowercase_columns(df):\n",
    "    df.columns = df.columns.str.lower()\n",
    "    return df\n",
    "\n",
    "# Read the first file and convert column names to lowercase\n",
    "features = pd.read_csv(text_path[0])\n",
    "features = lowercase_columns(features)\n",
    "\n",
    "# Read and merge each file into the features dataframe\n",
    "for path in tqdm.tqdm(text_path[1:-1]):\n",
    "    df = pd.read_csv(path)\n",
    "    df = lowercase_columns(df)\n",
    "    \n",
    "    common_cols = features.columns.intersection(df.columns).tolist()\n",
    "    additional_cols = df.columns.difference(features.columns).tolist()\n",
    "\n",
    "    features = pd.merge(features, df[['filename'] + additional_cols], on='filename', how='inner')\n",
    "\n",
    "features['VideoNumber'] = features['filename'].apply(split_ad_id)"
   ]
  },
  {
   "cell_type": "code",
   "execution_count": 44,
   "id": "54352c6c-da54-46f1-b54b-bc35bb863aed",
   "metadata": {
    "tags": []
   },
   "outputs": [
    {
     "data": {
      "text/plain": [
       "Index(['filename', 'segment', 'wc', 'analytic', 'clout', 'authentic', 'tone',\n",
       "       'wps', 'bigwords', 'dic',\n",
       "       ...\n",
       "       'spiritual_imagery', 'total', 'vision', 'agency',\n",
       "       'agentrelatedemotions', 'experience', 'mindoverall',\n",
       "       'patientrelatedemotions', 'security', 'VideoNumber'],\n",
       "      dtype='object', length=159)"
      ]
     },
     "execution_count": 44,
     "metadata": {},
     "output_type": "execute_result"
    }
   ],
   "source": [
    "features.columns"
   ]
  },
  {
   "cell_type": "code",
   "execution_count": 45,
   "id": "7f03f670-0ffc-45a3-9463-f8ed8de0b404",
   "metadata": {
    "tags": []
   },
   "outputs": [
    {
     "data": {
      "text/html": [
       "<div>\n",
       "<style scoped>\n",
       "    .dataframe tbody tr th:only-of-type {\n",
       "        vertical-align: middle;\n",
       "    }\n",
       "\n",
       "    .dataframe tbody tr th {\n",
       "        vertical-align: top;\n",
       "    }\n",
       "\n",
       "    .dataframe thead th {\n",
       "        text-align: right;\n",
       "    }\n",
       "</style>\n",
       "<table border=\"1\" class=\"dataframe\">\n",
       "  <thead>\n",
       "    <tr style=\"text-align: right;\">\n",
       "      <th></th>\n",
       "      <th>filename</th>\n",
       "      <th>segment</th>\n",
       "      <th>wc</th>\n",
       "      <th>analytic</th>\n",
       "      <th>clout</th>\n",
       "      <th>authentic</th>\n",
       "      <th>tone</th>\n",
       "      <th>wps</th>\n",
       "      <th>bigwords</th>\n",
       "      <th>dic</th>\n",
       "      <th>...</th>\n",
       "      <th>spiritual_imagery</th>\n",
       "      <th>total</th>\n",
       "      <th>vision</th>\n",
       "      <th>agency</th>\n",
       "      <th>agentrelatedemotions</th>\n",
       "      <th>experience</th>\n",
       "      <th>mindoverall</th>\n",
       "      <th>patientrelatedemotions</th>\n",
       "      <th>security</th>\n",
       "      <th>VideoNumber</th>\n",
       "    </tr>\n",
       "  </thead>\n",
       "  <tbody>\n",
       "    <tr>\n",
       "      <th>106</th>\n",
       "      <td>95+The Promise of Similac (1).txt</td>\n",
       "      <td>1</td>\n",
       "      <td>1116</td>\n",
       "      <td>73.81</td>\n",
       "      <td>98.55</td>\n",
       "      <td>8.30</td>\n",
       "      <td>99.00</td>\n",
       "      <td>7.15</td>\n",
       "      <td>23.30</td>\n",
       "      <td>86.02</td>\n",
       "      <td>...</td>\n",
       "      <td>0</td>\n",
       "      <td>1.16</td>\n",
       "      <td>0</td>\n",
       "      <td>2.33</td>\n",
       "      <td>0.00</td>\n",
       "      <td>1.16</td>\n",
       "      <td>3.49</td>\n",
       "      <td>1.16</td>\n",
       "      <td>0.00</td>\n",
       "      <td>95</td>\n",
       "    </tr>\n",
       "    <tr>\n",
       "      <th>107</th>\n",
       "      <td>96+The Promise of Similac.txt</td>\n",
       "      <td>1</td>\n",
       "      <td>100</td>\n",
       "      <td>93.09</td>\n",
       "      <td>86.52</td>\n",
       "      <td>1.00</td>\n",
       "      <td>67.48</td>\n",
       "      <td>16.67</td>\n",
       "      <td>27.00</td>\n",
       "      <td>76.00</td>\n",
       "      <td>...</td>\n",
       "      <td>0</td>\n",
       "      <td>3.00</td>\n",
       "      <td>0</td>\n",
       "      <td>3.00</td>\n",
       "      <td>0.00</td>\n",
       "      <td>0.00</td>\n",
       "      <td>3.00</td>\n",
       "      <td>0.00</td>\n",
       "      <td>0.00</td>\n",
       "      <td>96</td>\n",
       "    </tr>\n",
       "    <tr>\n",
       "      <th>108</th>\n",
       "      <td>97+The Wonder of Baby  SMA® PRO Follow on Milk...</td>\n",
       "      <td>1</td>\n",
       "      <td>688</td>\n",
       "      <td>98.31</td>\n",
       "      <td>98.38</td>\n",
       "      <td>25.75</td>\n",
       "      <td>95.15</td>\n",
       "      <td>11.47</td>\n",
       "      <td>23.26</td>\n",
       "      <td>84.01</td>\n",
       "      <td>...</td>\n",
       "      <td>0</td>\n",
       "      <td>8.72</td>\n",
       "      <td>0</td>\n",
       "      <td>0.00</td>\n",
       "      <td>1.45</td>\n",
       "      <td>2.91</td>\n",
       "      <td>2.91</td>\n",
       "      <td>0.00</td>\n",
       "      <td>1.45</td>\n",
       "      <td>97</td>\n",
       "    </tr>\n",
       "    <tr>\n",
       "      <th>109</th>\n",
       "      <td>98+Unibale Baby formula- Babyactiv8.txt</td>\n",
       "      <td>1</td>\n",
       "      <td>288</td>\n",
       "      <td>99.00</td>\n",
       "      <td>99.00</td>\n",
       "      <td>4.36</td>\n",
       "      <td>99.00</td>\n",
       "      <td>28.80</td>\n",
       "      <td>26.04</td>\n",
       "      <td>89.58</td>\n",
       "      <td>...</td>\n",
       "      <td>0</td>\n",
       "      <td>3.47</td>\n",
       "      <td>0</td>\n",
       "      <td>0.00</td>\n",
       "      <td>0.00</td>\n",
       "      <td>1.74</td>\n",
       "      <td>1.74</td>\n",
       "      <td>0.00</td>\n",
       "      <td>0.00</td>\n",
       "      <td>98</td>\n",
       "    </tr>\n",
       "    <tr>\n",
       "      <th>110</th>\n",
       "      <td>99+VINTAGE 1958 PET EVAPORATED MILK COMMERCIAL...</td>\n",
       "      <td>1</td>\n",
       "      <td>1546</td>\n",
       "      <td>74.77</td>\n",
       "      <td>78.84</td>\n",
       "      <td>1.00</td>\n",
       "      <td>56.58</td>\n",
       "      <td>12.88</td>\n",
       "      <td>17.85</td>\n",
       "      <td>86.80</td>\n",
       "      <td>...</td>\n",
       "      <td>0</td>\n",
       "      <td>0.78</td>\n",
       "      <td>0</td>\n",
       "      <td>0.00</td>\n",
       "      <td>0.00</td>\n",
       "      <td>0.00</td>\n",
       "      <td>0.00</td>\n",
       "      <td>0.00</td>\n",
       "      <td>0.78</td>\n",
       "      <td>99</td>\n",
       "    </tr>\n",
       "  </tbody>\n",
       "</table>\n",
       "<p>5 rows × 159 columns</p>\n",
       "</div>"
      ],
      "text/plain": [
       "                                              filename  segment    wc  \\\n",
       "106                  95+The Promise of Similac (1).txt        1  1116   \n",
       "107                      96+The Promise of Similac.txt        1   100   \n",
       "108  97+The Wonder of Baby  SMA® PRO Follow on Milk...        1   688   \n",
       "109            98+Unibale Baby formula- Babyactiv8.txt        1   288   \n",
       "110  99+VINTAGE 1958 PET EVAPORATED MILK COMMERCIAL...        1  1546   \n",
       "\n",
       "     analytic  clout  authentic   tone    wps  bigwords    dic  ...  \\\n",
       "106     73.81  98.55       8.30  99.00   7.15     23.30  86.02  ...   \n",
       "107     93.09  86.52       1.00  67.48  16.67     27.00  76.00  ...   \n",
       "108     98.31  98.38      25.75  95.15  11.47     23.26  84.01  ...   \n",
       "109     99.00  99.00       4.36  99.00  28.80     26.04  89.58  ...   \n",
       "110     74.77  78.84       1.00  56.58  12.88     17.85  86.80  ...   \n",
       "\n",
       "     spiritual_imagery  total  vision  agency  agentrelatedemotions  \\\n",
       "106                  0   1.16       0    2.33                  0.00   \n",
       "107                  0   3.00       0    3.00                  0.00   \n",
       "108                  0   8.72       0    0.00                  1.45   \n",
       "109                  0   3.47       0    0.00                  0.00   \n",
       "110                  0   0.78       0    0.00                  0.00   \n",
       "\n",
       "     experience  mindoverall  patientrelatedemotions  security  VideoNumber  \n",
       "106        1.16         3.49                    1.16      0.00           95  \n",
       "107        0.00         3.00                    0.00      0.00           96  \n",
       "108        2.91         2.91                    0.00      1.45           97  \n",
       "109        1.74         1.74                    0.00      0.00           98  \n",
       "110        0.00         0.00                    0.00      0.78           99  \n",
       "\n",
       "[5 rows x 159 columns]"
      ]
     },
     "execution_count": 45,
     "metadata": {},
     "output_type": "execute_result"
    }
   ],
   "source": [
    "features.tail()"
   ]
  },
  {
   "cell_type": "code",
   "execution_count": 46,
   "id": "f9ecf424-9f45-4a76-bd29-b4cba58ebd67",
   "metadata": {
    "tags": []
   },
   "outputs": [],
   "source": [
    "features['VideoNumber'] = features['VideoNumber'].astype(np.int64)"
   ]
  },
  {
   "cell_type": "code",
   "execution_count": 48,
   "id": "77eff420-b58f-4eb1-93c7-841a15680a1f",
   "metadata": {
    "tags": []
   },
   "outputs": [],
   "source": [
    "data = features.merge(rating, on='VideoNumber', how='inner')"
   ]
  },
  {
   "cell_type": "raw",
   "id": "d5ba6828-e3e5-4e81-b097-a6b5adff79bb",
   "metadata": {
    "tags": []
   },
   "source": [
    "features['filename'].unique()"
   ]
  },
  {
   "cell_type": "raw",
   "id": "862b8bfe-ace7-4c36-83ae-243a49983888",
   "metadata": {
    "tags": []
   },
   "source": [
    "dispersion['ad_id'].unique()"
   ]
  },
  {
   "cell_type": "code",
   "execution_count": 49,
   "id": "e652650e-ad62-4485-8a41-75eecc0c711d",
   "metadata": {},
   "outputs": [],
   "source": [
    "data['ad_id'] = data['filename'].apply(lambda x: x.replace('.txt', '.mp4'))"
   ]
  },
  {
   "cell_type": "code",
   "execution_count": null,
   "id": "efff6b6a-09b2-4a81-b9c9-5cf20d409b1b",
   "metadata": {},
   "outputs": [],
   "source": []
  },
  {
   "cell_type": "code",
   "execution_count": 53,
   "id": "5f0381ad-dbfa-4ee2-a13e-1c518de365b8",
   "metadata": {
    "tags": []
   },
   "outputs": [
    {
     "name": "stdout",
     "output_type": "stream",
     "text": [
      "analytic\n",
      "clout\n",
      "authentic\n",
      "tone\n"
     ]
    }
   ],
   "source": [
    "for col in data.columns:\n",
    "    if data[col].isna().any():\n",
    "        print(col)"
   ]
  },
  {
   "cell_type": "code",
   "execution_count": 54,
   "id": "33a02b36-5330-4db1-94fa-d222d5d561fa",
   "metadata": {
    "tags": []
   },
   "outputs": [],
   "source": [
    "data['tone'] = data['tone'].fillna(data['tone'].mean())\n",
    "data['authentic'] = data['authentic'].fillna(data['authentic'].mean())\n",
    "data['clout'] = data['clout'].fillna(data['clout'].mean())\n",
    "data['analytic'] = data['analytic'].fillna(data['analytic'].mean())"
   ]
  },
  {
   "cell_type": "code",
   "execution_count": 55,
   "id": "7a94f926-da8f-4e76-a0ce-3e6346210860",
   "metadata": {},
   "outputs": [],
   "source": [
    "data = data.dropna(how='any')\n",
    "data = data.replace([np.inf, -np.inf], np.nan).dropna()"
   ]
  },
  {
   "cell_type": "code",
   "execution_count": 58,
   "id": "e3d419fa-6c38-404a-b3b1-c7f07eda79bd",
   "metadata": {
    "tags": []
   },
   "outputs": [],
   "source": [
    "features = ['wc', 'analytic', 'clout', 'authentic', 'tone', 'wps', 'bigwords', 'dic', 'linguistic', 'function', 'pronoun', \n",
    "            'ppron', 'i', 'we', 'you', 'shehe', 'they', 'ipron', 'det', 'article', 'number', 'prep', 'auxverb', 'adverb', \n",
    "            'conj', 'negate', 'verb', 'adj', 'quantity', 'drives', 'affiliation', 'achieve', 'power', 'cognition', \n",
    "            'allnone', 'cogproc', 'insight', 'cause', 'discrep', 'tentat', 'certitude', 'differ', 'memory', 'affect',\n",
    "            'tone_pos', 'tone_neg', 'emotion', 'emo_pos', 'emo_neg', 'emo_anx', 'emo_anger', 'emo_sad', 'swear', 'social',\n",
    "            'socbehav', 'prosocial', 'polite', 'conflict', 'moral', 'comm', 'socrefs', 'family', 'friend', 'female', 'male',\n",
    "            'culture', 'politic', 'ethnicity', 'tech', 'lifestyle', 'leisure', 'home', 'work', 'money', 'relig', 'physical',\n",
    "            'health', 'illness', 'wellness', 'mental', 'substances', 'sexual', 'food', 'death', 'need', 'want', 'acquire', \n",
    "            'lack', 'fulfill', 'fatigue', 'reward', 'risk', 'curiosity', 'allure', 'perception', 'attention', 'motion', \n",
    "            'space', 'visual', 'auditory', 'feeling', 'time', 'focuspast', 'focuspresent', 'focusfuture', 'conversation', \n",
    "            'netspeak', 'assent', 'nonflu', 'filler', 'allpunc', 'period', 'comma', 'qmark', 'exclam', 'apostro', 'otherp', \n",
    "            'emoji', 'absolutist', 'agitation', 'dejection', 'accomplishment', 'behavioral_activation', 'breadth', \n",
    "            'decisions', 'effort_enjoyment', 'longterm', 'satisfaction', 'structure', 'competence', 'excitement', \n",
    "            'not_relevant', 'ruggedness', 'sincerity', 'sophistication', 'highcontroversial', 'lowcontroversial',\n",
    "            'mediumcontroversial', 'benefit', 'cost', 'creativity_innovation', 'alterations', 'cogs_precogs', \n",
    "            'enchantment_emotions', 'fabulations', 'infinity_eternity', 'renewal', 'spiritual_imagery', 'total', \n",
    "            'vision', 'agency', 'agentrelatedemotions', 'experience', 'mindoverall', 'patientrelatedemotions', 'security']"
   ]
  },
  {
   "cell_type": "code",
   "execution_count": 59,
   "id": "c4bcd4ae-f381-48b1-a2eb-31c35fbccf9e",
   "metadata": {
    "tags": []
   },
   "outputs": [
    {
     "data": {
      "text/plain": [
       "156"
      ]
     },
     "execution_count": 59,
     "metadata": {},
     "output_type": "execute_result"
    }
   ],
   "source": [
    "len(features)"
   ]
  },
  {
   "cell_type": "markdown",
   "id": "820d326a-088e-4153-9f31-3c427b4504c4",
   "metadata": {},
   "source": [
    "# dispersion"
   ]
  },
  {
   "cell_type": "code",
   "execution_count": 60,
   "id": "f7ee9ccc-9b09-4fc2-88e6-730b262a9044",
   "metadata": {
    "tags": []
   },
   "outputs": [
    {
     "data": {
      "text/html": [
       "<div>\n",
       "<style scoped>\n",
       "    .dataframe tbody tr th:only-of-type {\n",
       "        vertical-align: middle;\n",
       "    }\n",
       "\n",
       "    .dataframe tbody tr th {\n",
       "        vertical-align: top;\n",
       "    }\n",
       "\n",
       "    .dataframe thead th {\n",
       "        text-align: right;\n",
       "    }\n",
       "</style>\n",
       "<table border=\"1\" class=\"dataframe\">\n",
       "  <thead>\n",
       "    <tr style=\"text-align: right;\">\n",
       "      <th></th>\n",
       "      <th>filename</th>\n",
       "      <th>segment</th>\n",
       "      <th>wc</th>\n",
       "      <th>analytic</th>\n",
       "      <th>clout</th>\n",
       "      <th>authentic</th>\n",
       "      <th>tone</th>\n",
       "      <th>wps</th>\n",
       "      <th>bigwords</th>\n",
       "      <th>dic</th>\n",
       "      <th>...</th>\n",
       "      <th>VideoNumber</th>\n",
       "      <th>GroupN(1=low(1-3),2=neutral(4-6),3=high(7-10))</th>\n",
       "      <th>PrefereneMean</th>\n",
       "      <th>PurchaseDesireMean</th>\n",
       "      <th>NarrativeInterityMean</th>\n",
       "      <th>EmpathyMean</th>\n",
       "      <th>TotalTime(S)</th>\n",
       "      <th>ShotNumber</th>\n",
       "      <th>ShotMean</th>\n",
       "      <th>ad_id</th>\n",
       "    </tr>\n",
       "  </thead>\n",
       "  <tbody>\n",
       "    <tr>\n",
       "      <th>0</th>\n",
       "      <td>1+90 Years Crafting.txt</td>\n",
       "      <td>1</td>\n",
       "      <td>610</td>\n",
       "      <td>55.44</td>\n",
       "      <td>40.06</td>\n",
       "      <td>18.98</td>\n",
       "      <td>66.73</td>\n",
       "      <td>13.56</td>\n",
       "      <td>25.08</td>\n",
       "      <td>80.82</td>\n",
       "      <td>...</td>\n",
       "      <td>1</td>\n",
       "      <td>2</td>\n",
       "      <td>5.957447</td>\n",
       "      <td>5.553191</td>\n",
       "      <td>5.085106</td>\n",
       "      <td>5.255319</td>\n",
       "      <td>33</td>\n",
       "      <td>8</td>\n",
       "      <td>4.125000</td>\n",
       "      <td>1+90 Years Crafting.mp4</td>\n",
       "    </tr>\n",
       "    <tr>\n",
       "      <th>1</th>\n",
       "      <td>10+Aptamil Advert 2021.txt</td>\n",
       "      <td>1</td>\n",
       "      <td>628</td>\n",
       "      <td>85.05</td>\n",
       "      <td>99.00</td>\n",
       "      <td>24.57</td>\n",
       "      <td>65.41</td>\n",
       "      <td>13.96</td>\n",
       "      <td>20.06</td>\n",
       "      <td>85.67</td>\n",
       "      <td>...</td>\n",
       "      <td>10</td>\n",
       "      <td>2</td>\n",
       "      <td>4.166667</td>\n",
       "      <td>4.000000</td>\n",
       "      <td>5.666667</td>\n",
       "      <td>3.333333</td>\n",
       "      <td>31</td>\n",
       "      <td>14</td>\n",
       "      <td>2.214286</td>\n",
       "      <td>10+Aptamil Advert 2021.mp4</td>\n",
       "    </tr>\n",
       "    <tr>\n",
       "      <th>2</th>\n",
       "      <td>100+Vintage Carnation infant formula commercia...</td>\n",
       "      <td>1</td>\n",
       "      <td>3358</td>\n",
       "      <td>67.34</td>\n",
       "      <td>85.71</td>\n",
       "      <td>5.65</td>\n",
       "      <td>99.00</td>\n",
       "      <td>8.00</td>\n",
       "      <td>19.39</td>\n",
       "      <td>84.37</td>\n",
       "      <td>...</td>\n",
       "      <td>100</td>\n",
       "      <td>1</td>\n",
       "      <td>3.333333</td>\n",
       "      <td>3.000000</td>\n",
       "      <td>6.666667</td>\n",
       "      <td>2.333333</td>\n",
       "      <td>69</td>\n",
       "      <td>26</td>\n",
       "      <td>2.653846</td>\n",
       "      <td>100+Vintage Carnation infant formula commercia...</td>\n",
       "    </tr>\n",
       "    <tr>\n",
       "      <th>3</th>\n",
       "      <td>101+Welcome To Kendamil.txt</td>\n",
       "      <td>1</td>\n",
       "      <td>1076</td>\n",
       "      <td>93.15</td>\n",
       "      <td>83.65</td>\n",
       "      <td>19.04</td>\n",
       "      <td>96.36</td>\n",
       "      <td>19.21</td>\n",
       "      <td>25.56</td>\n",
       "      <td>80.58</td>\n",
       "      <td>...</td>\n",
       "      <td>101</td>\n",
       "      <td>2</td>\n",
       "      <td>4.176471</td>\n",
       "      <td>3.588235</td>\n",
       "      <td>5.166667</td>\n",
       "      <td>3.388889</td>\n",
       "      <td>61</td>\n",
       "      <td>14</td>\n",
       "      <td>4.357143</td>\n",
       "      <td>101+Welcome To Kendamil.mp4</td>\n",
       "    </tr>\n",
       "    <tr>\n",
       "      <th>4</th>\n",
       "      <td>102+Welcome to the Kendamil family!.txt</td>\n",
       "      <td>1</td>\n",
       "      <td>1131</td>\n",
       "      <td>89.52</td>\n",
       "      <td>88.74</td>\n",
       "      <td>26.07</td>\n",
       "      <td>89.47</td>\n",
       "      <td>16.88</td>\n",
       "      <td>26.26</td>\n",
       "      <td>78.60</td>\n",
       "      <td>...</td>\n",
       "      <td>102</td>\n",
       "      <td>2</td>\n",
       "      <td>4.285714</td>\n",
       "      <td>3.857143</td>\n",
       "      <td>5.000000</td>\n",
       "      <td>2.857143</td>\n",
       "      <td>61</td>\n",
       "      <td>19</td>\n",
       "      <td>3.210526</td>\n",
       "      <td>102+Welcome to the Kendamil family!.mp4</td>\n",
       "    </tr>\n",
       "  </tbody>\n",
       "</table>\n",
       "<p>5 rows × 168 columns</p>\n",
       "</div>"
      ],
      "text/plain": [
       "                                            filename  segment    wc  analytic  \\\n",
       "0                            1+90 Years Crafting.txt        1   610     55.44   \n",
       "1                         10+Aptamil Advert 2021.txt        1   628     85.05   \n",
       "2  100+Vintage Carnation infant formula commercia...        1  3358     67.34   \n",
       "3                        101+Welcome To Kendamil.txt        1  1076     93.15   \n",
       "4            102+Welcome to the Kendamil family!.txt        1  1131     89.52   \n",
       "\n",
       "   clout  authentic   tone    wps  bigwords    dic  ...  VideoNumber  \\\n",
       "0  40.06      18.98  66.73  13.56     25.08  80.82  ...            1   \n",
       "1  99.00      24.57  65.41  13.96     20.06  85.67  ...           10   \n",
       "2  85.71       5.65  99.00   8.00     19.39  84.37  ...          100   \n",
       "3  83.65      19.04  96.36  19.21     25.56  80.58  ...          101   \n",
       "4  88.74      26.07  89.47  16.88     26.26  78.60  ...          102   \n",
       "\n",
       "   GroupN(1=low(1-3),2=neutral(4-6),3=high(7-10))  PrefereneMean  \\\n",
       "0                                               2       5.957447   \n",
       "1                                               2       4.166667   \n",
       "2                                               1       3.333333   \n",
       "3                                               2       4.176471   \n",
       "4                                               2       4.285714   \n",
       "\n",
       "   PurchaseDesireMean  NarrativeInterityMean  EmpathyMean  TotalTime(S)  \\\n",
       "0            5.553191               5.085106     5.255319            33   \n",
       "1            4.000000               5.666667     3.333333            31   \n",
       "2            3.000000               6.666667     2.333333            69   \n",
       "3            3.588235               5.166667     3.388889            61   \n",
       "4            3.857143               5.000000     2.857143            61   \n",
       "\n",
       "   ShotNumber  ShotMean                                              ad_id  \n",
       "0           8  4.125000                            1+90 Years Crafting.mp4  \n",
       "1          14  2.214286                         10+Aptamil Advert 2021.mp4  \n",
       "2          26  2.653846  100+Vintage Carnation infant formula commercia...  \n",
       "3          14  4.357143                        101+Welcome To Kendamil.mp4  \n",
       "4          19  3.210526            102+Welcome to the Kendamil family!.mp4  \n",
       "\n",
       "[5 rows x 168 columns]"
      ]
     },
     "execution_count": 60,
     "metadata": {},
     "output_type": "execute_result"
    }
   ],
   "source": [
    "data.head()"
   ]
  },
  {
   "cell_type": "code",
   "execution_count": 62,
   "id": "92f03223-7b7e-4737-8303-62696eb2114e",
   "metadata": {},
   "outputs": [
    {
     "data": {
      "text/html": [
       "<div>\n",
       "<style scoped>\n",
       "    .dataframe tbody tr th:only-of-type {\n",
       "        vertical-align: middle;\n",
       "    }\n",
       "\n",
       "    .dataframe tbody tr th {\n",
       "        vertical-align: top;\n",
       "    }\n",
       "\n",
       "    .dataframe thead th {\n",
       "        text-align: right;\n",
       "    }\n",
       "</style>\n",
       "<table border=\"1\" class=\"dataframe\">\n",
       "  <thead>\n",
       "    <tr style=\"text-align: right;\">\n",
       "      <th></th>\n",
       "      <th>ad_id</th>\n",
       "      <th>id</th>\n",
       "      <th>std_x</th>\n",
       "      <th>std_y</th>\n",
       "      <th>combined_std</th>\n",
       "      <th>convex_hull_area</th>\n",
       "      <th>convex_hull_area_shapely</th>\n",
       "      <th>mean_euclidean_distance</th>\n",
       "    </tr>\n",
       "  </thead>\n",
       "  <tbody>\n",
       "    <tr>\n",
       "      <th>0</th>\n",
       "      <td>1+90 Years Crafting.mp4</td>\n",
       "      <td>R_2qFdJq0jnOo6gpt</td>\n",
       "      <td>0.049059</td>\n",
       "      <td>0.132776</td>\n",
       "      <td>0.141550</td>\n",
       "      <td>0.067034</td>\n",
       "      <td>0.067034</td>\n",
       "      <td>0.114140</td>\n",
       "    </tr>\n",
       "    <tr>\n",
       "      <th>1</th>\n",
       "      <td>1+90 Years Crafting.mp4</td>\n",
       "      <td>R_5iNTkLqxP6ZbD7H</td>\n",
       "      <td>0.071655</td>\n",
       "      <td>0.104923</td>\n",
       "      <td>0.127056</td>\n",
       "      <td>0.063680</td>\n",
       "      <td>0.063680</td>\n",
       "      <td>0.112329</td>\n",
       "    </tr>\n",
       "  </tbody>\n",
       "</table>\n",
       "</div>"
      ],
      "text/plain": [
       "                     ad_id                 id     std_x     std_y  \\\n",
       "0  1+90 Years Crafting.mp4  R_2qFdJq0jnOo6gpt  0.049059  0.132776   \n",
       "1  1+90 Years Crafting.mp4  R_5iNTkLqxP6ZbD7H  0.071655  0.104923   \n",
       "\n",
       "   combined_std  convex_hull_area  convex_hull_area_shapely  \\\n",
       "0      0.141550          0.067034                  0.067034   \n",
       "1      0.127056          0.063680                  0.063680   \n",
       "\n",
       "   mean_euclidean_distance  \n",
       "0                 0.114140  \n",
       "1                 0.112329  "
      ]
     },
     "execution_count": 62,
     "metadata": {},
     "output_type": "execute_result"
    }
   ],
   "source": [
    "dispersion1 = pd.read_json('dispersion_measure0629.json', lines=True)\n",
    "dispersion1.head(2)"
   ]
  },
  {
   "cell_type": "code",
   "execution_count": 63,
   "id": "9c7bdbec-0090-4ee4-ae04-d51ab963de46",
   "metadata": {
    "tags": []
   },
   "outputs": [],
   "source": [
    "dispersion1['VideoNumber'] = dispersion1['ad_id'].apply(extract_video_number)\n",
    "data['VideoNumber'] = data['VideoNumber'].astype(int)\n",
    "dispersion1['VideoNumber'] = dispersion1['VideoNumber'].astype(int)\n",
    "data = data.merge(dispersion1[['id', 'std_x', 'std_y', 'combined_std', 'convex_hull_area',\n",
    "       'convex_hull_area_shapely', 'mean_euclidean_distance', 'VideoNumber']], on='VideoNumber')"
   ]
  },
  {
   "cell_type": "code",
   "execution_count": 65,
   "id": "8923891b-75c4-49eb-abf6-13d124fb6212",
   "metadata": {
    "tags": []
   },
   "outputs": [
    {
     "data": {
      "text/html": [
       "<div>\n",
       "<style scoped>\n",
       "    .dataframe tbody tr th:only-of-type {\n",
       "        vertical-align: middle;\n",
       "    }\n",
       "\n",
       "    .dataframe tbody tr th {\n",
       "        vertical-align: top;\n",
       "    }\n",
       "\n",
       "    .dataframe thead th {\n",
       "        text-align: right;\n",
       "    }\n",
       "</style>\n",
       "<table border=\"1\" class=\"dataframe\">\n",
       "  <thead>\n",
       "    <tr style=\"text-align: right;\">\n",
       "      <th></th>\n",
       "      <th>filename</th>\n",
       "      <th>segment</th>\n",
       "      <th>wc</th>\n",
       "      <th>analytic</th>\n",
       "      <th>clout</th>\n",
       "      <th>authentic</th>\n",
       "      <th>tone</th>\n",
       "      <th>wps</th>\n",
       "      <th>bigwords</th>\n",
       "      <th>dic</th>\n",
       "      <th>...</th>\n",
       "      <th>ShotNumber</th>\n",
       "      <th>ShotMean</th>\n",
       "      <th>ad_id</th>\n",
       "      <th>id</th>\n",
       "      <th>std_x</th>\n",
       "      <th>std_y</th>\n",
       "      <th>combined_std</th>\n",
       "      <th>convex_hull_area</th>\n",
       "      <th>convex_hull_area_shapely</th>\n",
       "      <th>mean_euclidean_distance</th>\n",
       "    </tr>\n",
       "  </thead>\n",
       "  <tbody>\n",
       "    <tr>\n",
       "      <th>0</th>\n",
       "      <td>1+90 Years Crafting.txt</td>\n",
       "      <td>1</td>\n",
       "      <td>610</td>\n",
       "      <td>55.44</td>\n",
       "      <td>40.06</td>\n",
       "      <td>18.98</td>\n",
       "      <td>66.73</td>\n",
       "      <td>13.56</td>\n",
       "      <td>25.08</td>\n",
       "      <td>80.82</td>\n",
       "      <td>...</td>\n",
       "      <td>8</td>\n",
       "      <td>4.125</td>\n",
       "      <td>1+90 Years Crafting.mp4</td>\n",
       "      <td>R_2qFdJq0jnOo6gpt</td>\n",
       "      <td>0.049059</td>\n",
       "      <td>0.132776</td>\n",
       "      <td>0.141550</td>\n",
       "      <td>0.067034</td>\n",
       "      <td>0.067034</td>\n",
       "      <td>0.114140</td>\n",
       "    </tr>\n",
       "    <tr>\n",
       "      <th>1</th>\n",
       "      <td>1+90 Years Crafting.txt</td>\n",
       "      <td>1</td>\n",
       "      <td>610</td>\n",
       "      <td>55.44</td>\n",
       "      <td>40.06</td>\n",
       "      <td>18.98</td>\n",
       "      <td>66.73</td>\n",
       "      <td>13.56</td>\n",
       "      <td>25.08</td>\n",
       "      <td>80.82</td>\n",
       "      <td>...</td>\n",
       "      <td>8</td>\n",
       "      <td>4.125</td>\n",
       "      <td>1+90 Years Crafting.mp4</td>\n",
       "      <td>R_5iNTkLqxP6ZbD7H</td>\n",
       "      <td>0.071655</td>\n",
       "      <td>0.104923</td>\n",
       "      <td>0.127056</td>\n",
       "      <td>0.063680</td>\n",
       "      <td>0.063680</td>\n",
       "      <td>0.112329</td>\n",
       "    </tr>\n",
       "  </tbody>\n",
       "</table>\n",
       "<p>2 rows × 175 columns</p>\n",
       "</div>"
      ],
      "text/plain": [
       "                  filename  segment   wc  analytic  clout  authentic   tone  \\\n",
       "0  1+90 Years Crafting.txt        1  610     55.44  40.06      18.98  66.73   \n",
       "1  1+90 Years Crafting.txt        1  610     55.44  40.06      18.98  66.73   \n",
       "\n",
       "     wps  bigwords    dic  ...  ShotNumber  ShotMean                    ad_id  \\\n",
       "0  13.56     25.08  80.82  ...           8     4.125  1+90 Years Crafting.mp4   \n",
       "1  13.56     25.08  80.82  ...           8     4.125  1+90 Years Crafting.mp4   \n",
       "\n",
       "                  id     std_x     std_y  combined_std  convex_hull_area  \\\n",
       "0  R_2qFdJq0jnOo6gpt  0.049059  0.132776      0.141550          0.067034   \n",
       "1  R_5iNTkLqxP6ZbD7H  0.071655  0.104923      0.127056          0.063680   \n",
       "\n",
       "   convex_hull_area_shapely  mean_euclidean_distance  \n",
       "0                  0.067034                 0.114140  \n",
       "1                  0.063680                 0.112329  \n",
       "\n",
       "[2 rows x 175 columns]"
      ]
     },
     "execution_count": 65,
     "metadata": {},
     "output_type": "execute_result"
    }
   ],
   "source": [
    "data.head(2)"
   ]
  },
  {
   "cell_type": "code",
   "execution_count": 66,
   "id": "b5a533d6-f464-4f49-9649-3aa4f7d6c399",
   "metadata": {
    "tags": []
   },
   "outputs": [
    {
     "data": {
      "text/plain": [
       "746"
      ]
     },
     "execution_count": 66,
     "metadata": {},
     "output_type": "execute_result"
    }
   ],
   "source": [
    "len(data)"
   ]
  },
  {
   "cell_type": "code",
   "execution_count": 67,
   "id": "15bfe836-2e39-42c1-9f4a-45cc691dba86",
   "metadata": {
    "tags": []
   },
   "outputs": [],
   "source": [
    "data = data.dropna()"
   ]
  },
  {
   "cell_type": "code",
   "execution_count": 68,
   "id": "9c4d1418-d9f2-4647-a31a-b7d198755ff2",
   "metadata": {
    "tags": []
   },
   "outputs": [
    {
     "data": {
      "text/plain": [
       "746"
      ]
     },
     "execution_count": 68,
     "metadata": {},
     "output_type": "execute_result"
    }
   ],
   "source": [
    "len(data)"
   ]
  },
  {
   "cell_type": "code",
   "execution_count": 69,
   "id": "a676a828-0387-4206-b898-e4d0616004e7",
   "metadata": {
    "tags": []
   },
   "outputs": [
    {
     "data": {
      "text/plain": [
       "Index(['filename', 'segment', 'wc', 'analytic', 'clout', 'authentic', 'tone',\n",
       "       'wps', 'bigwords', 'dic',\n",
       "       ...\n",
       "       'ShotNumber', 'ShotMean', 'ad_id', 'id', 'std_x', 'std_y',\n",
       "       'combined_std', 'convex_hull_area', 'convex_hull_area_shapely',\n",
       "       'mean_euclidean_distance'],\n",
       "      dtype='object', length=175)"
      ]
     },
     "execution_count": 69,
     "metadata": {},
     "output_type": "execute_result"
    }
   ],
   "source": [
    "data.columns"
   ]
  },
  {
   "cell_type": "markdown",
   "id": "0b699f33-5d04-4ae1-aed9-ecc6f4e98a20",
   "metadata": {},
   "source": [
    "# PCA"
   ]
  },
  {
   "cell_type": "code",
   "execution_count": 70,
   "id": "909507b2-785b-471d-9a1d-c07bd0a56320",
   "metadata": {
    "tags": []
   },
   "outputs": [],
   "source": [
    "features = ['wc', 'analytic', 'clout', 'authentic', 'tone', 'wps', 'bigwords', 'dic', 'linguistic', 'function', 'pronoun', \n",
    "            'ppron', 'i', 'we', 'you', 'shehe', 'they', 'ipron', 'det', 'article', 'number', 'prep', 'auxverb', 'adverb', \n",
    "            'conj', 'negate', 'verb', 'adj', 'quantity', 'drives', 'affiliation', 'achieve', 'power', 'cognition', \n",
    "            'allnone', 'cogproc', 'insight', 'cause', 'discrep', 'tentat', 'certitude', 'differ', 'memory', 'affect',\n",
    "            'tone_pos', 'tone_neg', 'emotion', 'emo_pos', 'emo_neg', 'emo_anx', 'emo_anger', 'emo_sad', 'swear', 'social',\n",
    "            'socbehav', 'prosocial', 'polite', 'conflict', 'moral', 'comm', 'socrefs', 'family', 'friend', 'female', 'male',\n",
    "            'culture', 'politic', 'ethnicity', 'tech', 'lifestyle', 'leisure', 'home', 'work', 'money', 'relig', 'physical',\n",
    "            'health', 'illness', 'wellness', 'mental', 'substances', 'sexual', 'food', 'death', 'need', 'want', 'acquire', \n",
    "            'lack', 'fulfill', 'fatigue', 'reward', 'risk', 'curiosity', 'allure', 'perception', 'attention', 'motion', \n",
    "            'space', 'visual', 'auditory', 'feeling', 'time', 'focuspast', 'focuspresent', 'focusfuture', 'conversation', \n",
    "            'netspeak', 'assent', 'nonflu', 'filler', 'allpunc', 'period', 'comma', 'qmark', 'exclam', 'apostro', 'otherp', \n",
    "            'emoji', 'absolutist', 'agitation', 'dejection', 'accomplishment', 'behavioral_activation', 'breadth', \n",
    "            'decisions', 'effort_enjoyment', 'longterm', 'satisfaction', 'structure', 'competence', 'excitement', \n",
    "            'not_relevant', 'ruggedness', 'sincerity', 'sophistication', 'highcontroversial', 'lowcontroversial',\n",
    "            'mediumcontroversial', 'benefit', 'cost', 'creativity_innovation', 'alterations', 'cogs_precogs', \n",
    "            'enchantment_emotions', 'fabulations', 'infinity_eternity', 'renewal', 'spiritual_imagery', 'total', \n",
    "            'vision', 'agency', 'agentrelatedemotions', 'experience', 'mindoverall', 'patientrelatedemotions', 'security']"
   ]
  },
  {
   "cell_type": "code",
   "execution_count": 71,
   "id": "11c64fbd-c823-45d3-800d-b77f406159d2",
   "metadata": {
    "tags": []
   },
   "outputs": [],
   "source": [
    "from sklearn.linear_model import LassoCV\n",
    "from sklearn.preprocessing import StandardScaler\n",
    "from sklearn.model_selection import train_test_split\n",
    "\n",
    "X = data[features]\n",
    "\n",
    "# Standardize your features\n",
    "scaler = StandardScaler()\n",
    "X_scaled = scaler.fit_transform(X)"
   ]
  },
  {
   "cell_type": "code",
   "execution_count": 72,
   "id": "7ee9de1c-7d9b-409c-86d5-dc05811b0699",
   "metadata": {
    "tags": []
   },
   "outputs": [],
   "source": [
    "from sklearn.decomposition import PCA\n",
    "from sklearn.pipeline import Pipeline\n",
    "from sklearn.linear_model import LinearRegression\n",
    "from sklearn.model_selection import GridSearchCV\n"
   ]
  },
  {
   "cell_type": "code",
   "execution_count": null,
   "id": "2ed2182d-4474-44b3-95bf-ffc05a25edf3",
   "metadata": {},
   "outputs": [],
   "source": []
  },
  {
   "cell_type": "code",
   "execution_count": 86,
   "id": "1d788358-0942-42ee-a40d-dd5232fb3534",
   "metadata": {
    "tags": []
   },
   "outputs": [
    {
     "name": "stdout",
     "output_type": "stream",
     "text": [
      "Number of principal components selected: 61\n",
      "Selected features by PCA: Index(['sexual', 'allure', 'lack', 'feeling', 'risk', 'agency', 'dic', 'adj',\n",
      "       'tone', 'period', 'fabulations', 'linguistic', 'assent', 'wc', 'relig',\n",
      "       'conj', 'effort_enjoyment', 'politic', 'conversation', 'otherp',\n",
      "       'insight', 'allpunc', 'focusfuture', 'authentic', 'nonflu', 'security',\n",
      "       'number', 'sophistication', 'illness', 'excitement', 'exclam',\n",
      "       'mindoverall', 'swear', 'infinity_eternity', 'reward', 'home',\n",
      "       'netspeak', 'memory', 'breadth', 'auditory', 'focuspast', 'alterations',\n",
      "       'leisure', 'they', 'cogs_precogs', 'behavioral_activation', 'auxverb',\n",
      "       'absolutist', 'verb', 'allnone', 'differ', 'cognition', 'tentat',\n",
      "       'sincerity', 'lifestyle', 'ruggedness', 'time', 'you', 'ppron',\n",
      "       'acquire', 'agentrelatedemotions'],\n",
      "      dtype='object')\n"
     ]
    }
   ],
   "source": [
    "# Apply PCA\n",
    "pca = PCA()\n",
    "X_pca = pca.fit_transform(X_scaled)\n",
    "\n",
    "# Get explained variance ratios\n",
    "explained_var_ratio = pca.explained_variance_ratio_\n",
    "\n",
    "# Determine number of components to keep\n",
    "total_var = 0\n",
    "n_components = 0\n",
    "for i, ratio in enumerate(explained_var_ratio):\n",
    "    total_var += ratio\n",
    "    if total_var >= 0.975:  # Adjust the threshold as needed\n",
    "        n_components = i + 1\n",
    "        break\n",
    "\n",
    "print(f\"Number of principal components selected: {n_components}\")\n",
    "\n",
    "# Apply PCA transformation with selected components\n",
    "pca_final = PCA(n_components=n_components)\n",
    "X_selected = pca_final.fit_transform(X_scaled)\n",
    "\n",
    "# Get selected features (if needed, you can interpret the components to understand which original features contribute the most)\n",
    "selected_features = X.columns[pca_final.components_.mean(axis=0).argsort()[::-1][:n_components]]\n",
    "print(\"Selected features by PCA:\", selected_features)"
   ]
  },
  {
   "cell_type": "code",
   "execution_count": 87,
   "id": "e8f65d4d-5a77-4669-9d67-770b43514fd4",
   "metadata": {
    "tags": []
   },
   "outputs": [
    {
     "data": {
      "text/plain": [
       "array(['absolutist', 'acquire', 'adj', 'agency', 'agentrelatedemotions',\n",
       "       'allnone', 'allpunc', 'allure', 'alterations', 'assent',\n",
       "       'auditory', 'authentic', 'auxverb', 'behavioral_activation',\n",
       "       'breadth', 'cognition', 'cogs_precogs', 'conj', 'conversation',\n",
       "       'dic', 'differ', 'effort_enjoyment', 'excitement', 'exclam',\n",
       "       'fabulations', 'feeling', 'focusfuture', 'focuspast', 'home',\n",
       "       'illness', 'infinity_eternity', 'insight', 'lack', 'leisure',\n",
       "       'lifestyle', 'linguistic', 'memory', 'mindoverall', 'netspeak',\n",
       "       'nonflu', 'number', 'otherp', 'period', 'politic', 'ppron',\n",
       "       'relig', 'reward', 'risk', 'ruggedness', 'security', 'sexual',\n",
       "       'sincerity', 'sophistication', 'swear', 'tentat', 'they', 'time',\n",
       "       'tone', 'verb', 'wc', 'you'], dtype=object)"
      ]
     },
     "execution_count": 87,
     "metadata": {},
     "output_type": "execute_result"
    }
   ],
   "source": [
    "sorted_values = np.sort(selected_features.values)\n",
    "sorted_values"
   ]
  },
  {
   "cell_type": "code",
   "execution_count": null,
   "id": "fc1a0bba-8bc6-4eee-8b65-27dc42b5c49f",
   "metadata": {},
   "outputs": [],
   "source": []
  },
  {
   "cell_type": "code",
   "execution_count": null,
   "id": "71fbb43d-905f-4be6-8224-f7832f77de5a",
   "metadata": {
    "tags": []
   },
   "outputs": [],
   "source": []
  },
  {
   "cell_type": "code",
   "execution_count": 88,
   "id": "62e907a5-285a-49cf-9be3-2c96e8b7dc37",
   "metadata": {
    "tags": []
   },
   "outputs": [
    {
     "name": "stdout",
     "output_type": "stream",
     "text": [
      "Highly correlated variable pairs:\n",
      "('assent', 'politic')\n",
      "('auditory', 'breadth')\n",
      "('auditory', 'leisure')\n",
      "('auditory', 'lifestyle')\n",
      "('breadth', 'leisure')\n",
      "('breadth', 'lifestyle')\n",
      "('conversation', 'nonflu')\n",
      "('leisure', 'lifestyle')\n",
      "('netspeak', 'politic')\n"
     ]
    }
   ],
   "source": [
    "correlation_matrix = data[list(sorted_values)].corr()\n",
    "# Define a threshold for high correlation\n",
    "threshold = 0.9\n",
    "\n",
    "# Find the index pairs of highly correlated variables\n",
    "high_corr_var_pairs = [\n",
    "    (correlation_matrix.columns[i], correlation_matrix.columns[j])\n",
    "    for i in range(len(correlation_matrix.columns))\n",
    "    for j in range(i + 1, len(correlation_matrix.columns))\n",
    "    if correlation_matrix.iloc[i, j] > threshold\n",
    "]\n",
    "\n",
    "# Display the highly correlated variable pairs\n",
    "print(\"Highly correlated variable pairs:\")\n",
    "for pair in high_corr_var_pairs:\n",
    "    print(pair)"
   ]
  },
  {
   "cell_type": "code",
   "execution_count": 89,
   "id": "1480804b-9566-4655-a2e6-fd77ebb62c2e",
   "metadata": {
    "tags": []
   },
   "outputs": [],
   "source": [
    "remove_colinearity_features = ['assent','auditory','breadth','conversation','leisure','netspeak','ppron']\n",
    "sorted_values = [i for i in sorted_values if i not in remove_colinearity_features]"
   ]
  },
  {
   "cell_type": "code",
   "execution_count": 90,
   "id": "37cf54d3-a52c-4216-b27a-818a64753647",
   "metadata": {
    "tags": []
   },
   "outputs": [
    {
     "name": "stdout",
     "output_type": "stream",
     "text": [
      "['absolutist', 'acquire', 'adj', 'agency', 'agentrelatedemotions', 'allnone', 'allpunc', 'allure', 'alterations', 'authentic', 'auxverb', 'behavioral_activation', 'cognition', 'cogs_precogs', 'conj', 'dic', 'differ', 'effort_enjoyment', 'excitement', 'exclam', 'fabulations', 'feeling', 'focusfuture', 'focuspast', 'home', 'illness', 'infinity_eternity', 'insight', 'lack', 'lifestyle', 'linguistic', 'memory', 'mindoverall', 'nonflu', 'number', 'otherp', 'period', 'politic', 'relig', 'reward', 'risk', 'ruggedness', 'security', 'sexual', 'sincerity', 'sophistication', 'swear', 'tentat', 'they', 'time', 'tone', 'verb', 'wc', 'you']\n"
     ]
    }
   ],
   "source": [
    "print(sorted_values)"
   ]
  },
  {
   "cell_type": "code",
   "execution_count": 91,
   "id": "512cd9e9-3ff8-416a-bc66-2255dfce4f67",
   "metadata": {
    "tags": []
   },
   "outputs": [
    {
     "data": {
      "text/plain": [
       "54"
      ]
     },
     "execution_count": 91,
     "metadata": {},
     "output_type": "execute_result"
    }
   ],
   "source": [
    "len(sorted_values)"
   ]
  },
  {
   "cell_type": "code",
   "execution_count": null,
   "id": "69edf7f3-0188-4e40-b21f-b7f96f4bd463",
   "metadata": {},
   "outputs": [],
   "source": []
  },
  {
   "cell_type": "code",
   "execution_count": null,
   "id": "57e15c95-5ed2-4b45-b8cc-81f204da0dd1",
   "metadata": {},
   "outputs": [],
   "source": []
  },
  {
   "cell_type": "code",
   "execution_count": 96,
   "id": "ba651935-1a69-486f-b55f-47d180667b2a",
   "metadata": {
    "tags": []
   },
   "outputs": [],
   "source": [
    "data['preference'] = data['GroupN(1=low(1-3),2=neutral(4-6),3=high(7-10))']"
   ]
  },
  {
   "cell_type": "code",
   "execution_count": 97,
   "id": "318d0281-e57a-4cc0-9e6a-e39f77444179",
   "metadata": {
    "tags": []
   },
   "outputs": [],
   "source": [
    "conditions = [\n",
    "    (0 < data['PurchaseDesireMean']) & (data['PurchaseDesireMean'] <= 3),\n",
    "    (3 < data['PurchaseDesireMean']) & (data['PurchaseDesireMean'] <= 6),\n",
    "    (6 < data['PurchaseDesireMean']) & (data['PurchaseDesireMean'] <= 10)\n",
    "]\n",
    "\n",
    "choices = [1, 2, 3]\n",
    "\n",
    "data['purchase'] = np.select(conditions, choices)"
   ]
  },
  {
   "cell_type": "raw",
   "id": "015d4c0f-78af-44e8-88ce-a88980fea2b1",
   "metadata": {
    "tags": []
   },
   "source": [
    "data.to_csv('infant_ads_variables_text06292024.csv', index=False)"
   ]
  },
  {
   "cell_type": "code",
   "execution_count": 98,
   "id": "8f048111-3ad5-4889-813d-482683c61a4b",
   "metadata": {
    "tags": []
   },
   "outputs": [
    {
     "data": {
      "text/plain": [
       "Index(['filename', 'segment', 'wc', 'analytic', 'clout', 'authentic', 'tone',\n",
       "       'wps', 'bigwords', 'dic',\n",
       "       ...\n",
       "       'id', 'std_x', 'std_y', 'combined_std', 'convex_hull_area',\n",
       "       'convex_hull_area_shapely', 'mean_euclidean_distance', 'intercept',\n",
       "       'preference', 'purchase'],\n",
       "      dtype='object', length=178)"
      ]
     },
     "execution_count": 98,
     "metadata": {},
     "output_type": "execute_result"
    }
   ],
   "source": [
    "data.columns"
   ]
  },
  {
   "cell_type": "code",
   "execution_count": 99,
   "id": "6857a2fb-c0dd-4f4e-8183-870e109f01f0",
   "metadata": {},
   "outputs": [
    {
     "data": {
      "text/html": [
       "<div>\n",
       "<style scoped>\n",
       "    .dataframe tbody tr th:only-of-type {\n",
       "        vertical-align: middle;\n",
       "    }\n",
       "\n",
       "    .dataframe tbody tr th {\n",
       "        vertical-align: top;\n",
       "    }\n",
       "\n",
       "    .dataframe thead th {\n",
       "        text-align: right;\n",
       "    }\n",
       "</style>\n",
       "<table border=\"1\" class=\"dataframe\">\n",
       "  <thead>\n",
       "    <tr style=\"text-align: right;\">\n",
       "      <th></th>\n",
       "      <th>filename</th>\n",
       "      <th>segment</th>\n",
       "      <th>wc</th>\n",
       "      <th>analytic</th>\n",
       "      <th>clout</th>\n",
       "      <th>authentic</th>\n",
       "      <th>tone</th>\n",
       "      <th>wps</th>\n",
       "      <th>bigwords</th>\n",
       "      <th>dic</th>\n",
       "      <th>...</th>\n",
       "      <th>id</th>\n",
       "      <th>std_x</th>\n",
       "      <th>std_y</th>\n",
       "      <th>combined_std</th>\n",
       "      <th>convex_hull_area</th>\n",
       "      <th>convex_hull_area_shapely</th>\n",
       "      <th>mean_euclidean_distance</th>\n",
       "      <th>intercept</th>\n",
       "      <th>preference</th>\n",
       "      <th>purchase</th>\n",
       "    </tr>\n",
       "  </thead>\n",
       "  <tbody>\n",
       "    <tr>\n",
       "      <th>0</th>\n",
       "      <td>1+90 Years Crafting.txt</td>\n",
       "      <td>1</td>\n",
       "      <td>610</td>\n",
       "      <td>55.44</td>\n",
       "      <td>40.06</td>\n",
       "      <td>18.98</td>\n",
       "      <td>66.73</td>\n",
       "      <td>13.56</td>\n",
       "      <td>25.08</td>\n",
       "      <td>80.82</td>\n",
       "      <td>...</td>\n",
       "      <td>R_2qFdJq0jnOo6gpt</td>\n",
       "      <td>0.049059</td>\n",
       "      <td>0.132776</td>\n",
       "      <td>0.141550</td>\n",
       "      <td>0.067034</td>\n",
       "      <td>0.067034</td>\n",
       "      <td>0.114140</td>\n",
       "      <td>1</td>\n",
       "      <td>2</td>\n",
       "      <td>2</td>\n",
       "    </tr>\n",
       "    <tr>\n",
       "      <th>1</th>\n",
       "      <td>1+90 Years Crafting.txt</td>\n",
       "      <td>1</td>\n",
       "      <td>610</td>\n",
       "      <td>55.44</td>\n",
       "      <td>40.06</td>\n",
       "      <td>18.98</td>\n",
       "      <td>66.73</td>\n",
       "      <td>13.56</td>\n",
       "      <td>25.08</td>\n",
       "      <td>80.82</td>\n",
       "      <td>...</td>\n",
       "      <td>R_5iNTkLqxP6ZbD7H</td>\n",
       "      <td>0.071655</td>\n",
       "      <td>0.104923</td>\n",
       "      <td>0.127056</td>\n",
       "      <td>0.063680</td>\n",
       "      <td>0.063680</td>\n",
       "      <td>0.112329</td>\n",
       "      <td>1</td>\n",
       "      <td>2</td>\n",
       "      <td>2</td>\n",
       "    </tr>\n",
       "    <tr>\n",
       "      <th>2</th>\n",
       "      <td>1+90 Years Crafting.txt</td>\n",
       "      <td>1</td>\n",
       "      <td>610</td>\n",
       "      <td>55.44</td>\n",
       "      <td>40.06</td>\n",
       "      <td>18.98</td>\n",
       "      <td>66.73</td>\n",
       "      <td>13.56</td>\n",
       "      <td>25.08</td>\n",
       "      <td>80.82</td>\n",
       "      <td>...</td>\n",
       "      <td>R_x5FWpiRdYvqrumZ</td>\n",
       "      <td>0.069265</td>\n",
       "      <td>0.068579</td>\n",
       "      <td>0.097471</td>\n",
       "      <td>0.040371</td>\n",
       "      <td>0.040371</td>\n",
       "      <td>0.084495</td>\n",
       "      <td>1</td>\n",
       "      <td>2</td>\n",
       "      <td>2</td>\n",
       "    </tr>\n",
       "    <tr>\n",
       "      <th>3</th>\n",
       "      <td>1+90 Years Crafting.txt</td>\n",
       "      <td>1</td>\n",
       "      <td>610</td>\n",
       "      <td>55.44</td>\n",
       "      <td>40.06</td>\n",
       "      <td>18.98</td>\n",
       "      <td>66.73</td>\n",
       "      <td>13.56</td>\n",
       "      <td>25.08</td>\n",
       "      <td>80.82</td>\n",
       "      <td>...</td>\n",
       "      <td>R_2WDsrmAlPtoO0HZ</td>\n",
       "      <td>0.085395</td>\n",
       "      <td>0.055002</td>\n",
       "      <td>0.101575</td>\n",
       "      <td>0.051600</td>\n",
       "      <td>0.051600</td>\n",
       "      <td>0.083171</td>\n",
       "      <td>1</td>\n",
       "      <td>2</td>\n",
       "      <td>2</td>\n",
       "    </tr>\n",
       "    <tr>\n",
       "      <th>4</th>\n",
       "      <td>1+90 Years Crafting.txt</td>\n",
       "      <td>1</td>\n",
       "      <td>610</td>\n",
       "      <td>55.44</td>\n",
       "      <td>40.06</td>\n",
       "      <td>18.98</td>\n",
       "      <td>66.73</td>\n",
       "      <td>13.56</td>\n",
       "      <td>25.08</td>\n",
       "      <td>80.82</td>\n",
       "      <td>...</td>\n",
       "      <td>R_2DTAqyIUDqXnKfP</td>\n",
       "      <td>0.069290</td>\n",
       "      <td>0.087720</td>\n",
       "      <td>0.111785</td>\n",
       "      <td>0.053018</td>\n",
       "      <td>0.053018</td>\n",
       "      <td>0.097591</td>\n",
       "      <td>1</td>\n",
       "      <td>2</td>\n",
       "      <td>2</td>\n",
       "    </tr>\n",
       "  </tbody>\n",
       "</table>\n",
       "<p>5 rows × 178 columns</p>\n",
       "</div>"
      ],
      "text/plain": [
       "                  filename  segment   wc  analytic  clout  authentic   tone  \\\n",
       "0  1+90 Years Crafting.txt        1  610     55.44  40.06      18.98  66.73   \n",
       "1  1+90 Years Crafting.txt        1  610     55.44  40.06      18.98  66.73   \n",
       "2  1+90 Years Crafting.txt        1  610     55.44  40.06      18.98  66.73   \n",
       "3  1+90 Years Crafting.txt        1  610     55.44  40.06      18.98  66.73   \n",
       "4  1+90 Years Crafting.txt        1  610     55.44  40.06      18.98  66.73   \n",
       "\n",
       "     wps  bigwords    dic  ...                 id     std_x     std_y  \\\n",
       "0  13.56     25.08  80.82  ...  R_2qFdJq0jnOo6gpt  0.049059  0.132776   \n",
       "1  13.56     25.08  80.82  ...  R_5iNTkLqxP6ZbD7H  0.071655  0.104923   \n",
       "2  13.56     25.08  80.82  ...  R_x5FWpiRdYvqrumZ  0.069265  0.068579   \n",
       "3  13.56     25.08  80.82  ...  R_2WDsrmAlPtoO0HZ  0.085395  0.055002   \n",
       "4  13.56     25.08  80.82  ...  R_2DTAqyIUDqXnKfP  0.069290  0.087720   \n",
       "\n",
       "   combined_std  convex_hull_area  convex_hull_area_shapely  \\\n",
       "0      0.141550          0.067034                  0.067034   \n",
       "1      0.127056          0.063680                  0.063680   \n",
       "2      0.097471          0.040371                  0.040371   \n",
       "3      0.101575          0.051600                  0.051600   \n",
       "4      0.111785          0.053018                  0.053018   \n",
       "\n",
       "   mean_euclidean_distance  intercept  preference  purchase  \n",
       "0                 0.114140          1           2         2  \n",
       "1                 0.112329          1           2         2  \n",
       "2                 0.084495          1           2         2  \n",
       "3                 0.083171          1           2         2  \n",
       "4                 0.097591          1           2         2  \n",
       "\n",
       "[5 rows x 178 columns]"
      ]
     },
     "execution_count": 99,
     "metadata": {},
     "output_type": "execute_result"
    }
   ],
   "source": [
    "data.head()"
   ]
  },
  {
   "cell_type": "code",
   "execution_count": 100,
   "id": "452199b3-60d8-45ab-a92d-851d5592b2a6",
   "metadata": {},
   "outputs": [
    {
     "data": {
      "text/html": [
       "<div>\n",
       "<style scoped>\n",
       "    .dataframe tbody tr th:only-of-type {\n",
       "        vertical-align: middle;\n",
       "    }\n",
       "\n",
       "    .dataframe tbody tr th {\n",
       "        vertical-align: top;\n",
       "    }\n",
       "\n",
       "    .dataframe thead th {\n",
       "        text-align: right;\n",
       "    }\n",
       "</style>\n",
       "<table border=\"1\" class=\"dataframe\">\n",
       "  <thead>\n",
       "    <tr style=\"text-align: right;\">\n",
       "      <th></th>\n",
       "      <th>filename</th>\n",
       "      <th>segment</th>\n",
       "      <th>wc</th>\n",
       "      <th>analytic</th>\n",
       "      <th>clout</th>\n",
       "      <th>authentic</th>\n",
       "      <th>tone</th>\n",
       "      <th>wps</th>\n",
       "      <th>bigwords</th>\n",
       "      <th>dic</th>\n",
       "      <th>...</th>\n",
       "      <th>id</th>\n",
       "      <th>std_x</th>\n",
       "      <th>std_y</th>\n",
       "      <th>combined_std</th>\n",
       "      <th>convex_hull_area</th>\n",
       "      <th>convex_hull_area_shapely</th>\n",
       "      <th>mean_euclidean_distance</th>\n",
       "      <th>intercept</th>\n",
       "      <th>preference</th>\n",
       "      <th>purchase</th>\n",
       "    </tr>\n",
       "  </thead>\n",
       "  <tbody>\n",
       "    <tr>\n",
       "      <th>741</th>\n",
       "      <td>99+VINTAGE 1958 PET EVAPORATED MILK COMMERCIAL...</td>\n",
       "      <td>1</td>\n",
       "      <td>1546</td>\n",
       "      <td>74.77</td>\n",
       "      <td>78.84</td>\n",
       "      <td>1.0</td>\n",
       "      <td>56.58</td>\n",
       "      <td>12.88</td>\n",
       "      <td>17.85</td>\n",
       "      <td>86.8</td>\n",
       "      <td>...</td>\n",
       "      <td>R_pcjQCK9dAmqufrX</td>\n",
       "      <td>0.061889</td>\n",
       "      <td>0.095416</td>\n",
       "      <td>0.113730</td>\n",
       "      <td>0.034914</td>\n",
       "      <td>0.034914</td>\n",
       "      <td>0.104958</td>\n",
       "      <td>1</td>\n",
       "      <td>2</td>\n",
       "      <td>2</td>\n",
       "    </tr>\n",
       "    <tr>\n",
       "      <th>742</th>\n",
       "      <td>99+VINTAGE 1958 PET EVAPORATED MILK COMMERCIAL...</td>\n",
       "      <td>1</td>\n",
       "      <td>1546</td>\n",
       "      <td>74.77</td>\n",
       "      <td>78.84</td>\n",
       "      <td>1.0</td>\n",
       "      <td>56.58</td>\n",
       "      <td>12.88</td>\n",
       "      <td>17.85</td>\n",
       "      <td>86.8</td>\n",
       "      <td>...</td>\n",
       "      <td>R_3QVndydHS3ggukh</td>\n",
       "      <td>0.072965</td>\n",
       "      <td>0.084651</td>\n",
       "      <td>0.111757</td>\n",
       "      <td>0.060095</td>\n",
       "      <td>0.060095</td>\n",
       "      <td>0.101739</td>\n",
       "      <td>1</td>\n",
       "      <td>2</td>\n",
       "      <td>2</td>\n",
       "    </tr>\n",
       "    <tr>\n",
       "      <th>743</th>\n",
       "      <td>99+VINTAGE 1958 PET EVAPORATED MILK COMMERCIAL...</td>\n",
       "      <td>1</td>\n",
       "      <td>1546</td>\n",
       "      <td>74.77</td>\n",
       "      <td>78.84</td>\n",
       "      <td>1.0</td>\n",
       "      <td>56.58</td>\n",
       "      <td>12.88</td>\n",
       "      <td>17.85</td>\n",
       "      <td>86.8</td>\n",
       "      <td>...</td>\n",
       "      <td>R_3n75JGLz1DIwqsc</td>\n",
       "      <td>0.072944</td>\n",
       "      <td>0.091150</td>\n",
       "      <td>0.116744</td>\n",
       "      <td>0.066781</td>\n",
       "      <td>0.066781</td>\n",
       "      <td>0.103575</td>\n",
       "      <td>1</td>\n",
       "      <td>2</td>\n",
       "      <td>2</td>\n",
       "    </tr>\n",
       "    <tr>\n",
       "      <th>744</th>\n",
       "      <td>99+VINTAGE 1958 PET EVAPORATED MILK COMMERCIAL...</td>\n",
       "      <td>1</td>\n",
       "      <td>1546</td>\n",
       "      <td>74.77</td>\n",
       "      <td>78.84</td>\n",
       "      <td>1.0</td>\n",
       "      <td>56.58</td>\n",
       "      <td>12.88</td>\n",
       "      <td>17.85</td>\n",
       "      <td>86.8</td>\n",
       "      <td>...</td>\n",
       "      <td>R_W3A7gkKqFyYxn5D</td>\n",
       "      <td>0.042931</td>\n",
       "      <td>0.063930</td>\n",
       "      <td>0.077007</td>\n",
       "      <td>0.020444</td>\n",
       "      <td>0.020444</td>\n",
       "      <td>0.069639</td>\n",
       "      <td>1</td>\n",
       "      <td>2</td>\n",
       "      <td>2</td>\n",
       "    </tr>\n",
       "    <tr>\n",
       "      <th>745</th>\n",
       "      <td>99+VINTAGE 1958 PET EVAPORATED MILK COMMERCIAL...</td>\n",
       "      <td>1</td>\n",
       "      <td>1546</td>\n",
       "      <td>74.77</td>\n",
       "      <td>78.84</td>\n",
       "      <td>1.0</td>\n",
       "      <td>56.58</td>\n",
       "      <td>12.88</td>\n",
       "      <td>17.85</td>\n",
       "      <td>86.8</td>\n",
       "      <td>...</td>\n",
       "      <td>R_2Xps7uqZpYygTm6</td>\n",
       "      <td>0.067836</td>\n",
       "      <td>0.068460</td>\n",
       "      <td>0.096376</td>\n",
       "      <td>0.040415</td>\n",
       "      <td>0.040415</td>\n",
       "      <td>0.083729</td>\n",
       "      <td>1</td>\n",
       "      <td>2</td>\n",
       "      <td>2</td>\n",
       "    </tr>\n",
       "  </tbody>\n",
       "</table>\n",
       "<p>5 rows × 178 columns</p>\n",
       "</div>"
      ],
      "text/plain": [
       "                                              filename  segment    wc  \\\n",
       "741  99+VINTAGE 1958 PET EVAPORATED MILK COMMERCIAL...        1  1546   \n",
       "742  99+VINTAGE 1958 PET EVAPORATED MILK COMMERCIAL...        1  1546   \n",
       "743  99+VINTAGE 1958 PET EVAPORATED MILK COMMERCIAL...        1  1546   \n",
       "744  99+VINTAGE 1958 PET EVAPORATED MILK COMMERCIAL...        1  1546   \n",
       "745  99+VINTAGE 1958 PET EVAPORATED MILK COMMERCIAL...        1  1546   \n",
       "\n",
       "     analytic  clout  authentic   tone    wps  bigwords   dic  ...  \\\n",
       "741     74.77  78.84        1.0  56.58  12.88     17.85  86.8  ...   \n",
       "742     74.77  78.84        1.0  56.58  12.88     17.85  86.8  ...   \n",
       "743     74.77  78.84        1.0  56.58  12.88     17.85  86.8  ...   \n",
       "744     74.77  78.84        1.0  56.58  12.88     17.85  86.8  ...   \n",
       "745     74.77  78.84        1.0  56.58  12.88     17.85  86.8  ...   \n",
       "\n",
       "                    id     std_x     std_y  combined_std  convex_hull_area  \\\n",
       "741  R_pcjQCK9dAmqufrX  0.061889  0.095416      0.113730          0.034914   \n",
       "742  R_3QVndydHS3ggukh  0.072965  0.084651      0.111757          0.060095   \n",
       "743  R_3n75JGLz1DIwqsc  0.072944  0.091150      0.116744          0.066781   \n",
       "744  R_W3A7gkKqFyYxn5D  0.042931  0.063930      0.077007          0.020444   \n",
       "745  R_2Xps7uqZpYygTm6  0.067836  0.068460      0.096376          0.040415   \n",
       "\n",
       "     convex_hull_area_shapely  mean_euclidean_distance  intercept  preference  \\\n",
       "741                  0.034914                 0.104958          1           2   \n",
       "742                  0.060095                 0.101739          1           2   \n",
       "743                  0.066781                 0.103575          1           2   \n",
       "744                  0.020444                 0.069639          1           2   \n",
       "745                  0.040415                 0.083729          1           2   \n",
       "\n",
       "     purchase  \n",
       "741         2  \n",
       "742         2  \n",
       "743         2  \n",
       "744         2  \n",
       "745         2  \n",
       "\n",
       "[5 rows x 178 columns]"
      ]
     },
     "execution_count": 100,
     "metadata": {},
     "output_type": "execute_result"
    }
   ],
   "source": [
    "data.tail()"
   ]
  },
  {
   "cell_type": "code",
   "execution_count": null,
   "id": "4182e1bb-be1f-431f-ac3f-098bc3f7f961",
   "metadata": {},
   "outputs": [],
   "source": []
  },
  {
   "cell_type": "code",
   "execution_count": null,
   "id": "87693a59-d272-4342-b88d-4955d9448905",
   "metadata": {},
   "outputs": [],
   "source": []
  }
 ],
 "metadata": {
  "kernelspec": {
   "display_name": "Python 3 (ipykernel)",
   "language": "python",
   "name": "python3"
  },
  "language_info": {
   "codemirror_mode": {
    "name": "ipython",
    "version": 3
   },
   "file_extension": ".py",
   "mimetype": "text/x-python",
   "name": "python",
   "nbconvert_exporter": "python",
   "pygments_lexer": "ipython3",
   "version": "3.11.6"
  }
 },
 "nbformat": 4,
 "nbformat_minor": 5
}
